{
 "cells": [
  {
   "cell_type": "code",
   "execution_count": 5,
   "metadata": {},
   "outputs": [],
   "source": [
    "\n",
    "\n",
    "n = len(Nodes)\n",
    "heights = [-1 for _ in range(n)]\n",
    "LR = [-1 for _ in range(n)]\n"
   ]
  },
  {
   "cell_type": "code",
   "execution_count": 6,
   "metadata": {},
   "outputs": [],
   "source": [
    "class Node:\n",
    "    def __init__(self,data):\n",
    "        self.data = data\n",
    "        self.children = []\n",
    "        self.height = 0\n",
    "        self.LR = 0\n",
    "    def setChildren(self,nodeNum):\n",
    "        self.children.append(nodeNum)\n",
    "\n",
    "def getHeight(nodeNum):\n",
    "    if(heights[nodeNum] != -1):\n",
    "        return heights[nodeNum]\n",
    "    ret = 1\n",
    "    l2 = 1\n",
    "    for child in Nodes[nodeNum].children:\n",
    "        cHeight = getHeight(child) + 1\n",
    "        if(l2 < cHeight):\n",
    "            if(ret < cHeight):\n",
    "                l2 = ret\n",
    "                ret = cHeight\n",
    "            else:\n",
    "                l2 = cHeight\n",
    "    \n",
    "    heights[nodeNum] = ret\n",
    "    LR[nodeNum] = ret + l2 - 1\n",
    "    return ret\n",
    "    \n",
    "\n",
    "    \n",
    "    \n",
    "    \n",
    "        \n",
    "        "
   ]
  },
  {
   "cell_type": "code",
   "execution_count": null,
   "metadata": {},
   "outputs": [],
   "source": []
  }
 ],
 "metadata": {
  "kernelspec": {
   "display_name": "Python 3",
   "language": "python",
   "name": "python3"
  },
  "language_info": {
   "codemirror_mode": {
    "name": "ipython",
    "version": 3
   },
   "file_extension": ".py",
   "mimetype": "text/x-python",
   "name": "python",
   "nbconvert_exporter": "python",
   "pygments_lexer": "ipython3",
   "version": "3.7.3"
  }
 },
 "nbformat": 4,
 "nbformat_minor": 2
}
