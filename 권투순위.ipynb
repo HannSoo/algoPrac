{
 "cells": [
  {
   "cell_type": "code",
   "execution_count": 64,
   "metadata": {},
   "outputs": [
    {
     "ename": "IndentationError",
     "evalue": "expected an indented block (<ipython-input-64-e02e0feea242>, line 26)",
     "output_type": "error",
     "traceback": [
      "\u001b[1;36m  File \u001b[1;32m\"<ipython-input-64-e02e0feea242>\"\u001b[1;36m, line \u001b[1;32m26\u001b[0m\n\u001b[1;33m    return count_ranked()\u001b[0m\n\u001b[1;37m    ^\u001b[0m\n\u001b[1;31mIndentationError\u001b[0m\u001b[1;31m:\u001b[0m expected an indented block\n"
     ]
    }
   ],
   "source": [
    "def solution(n,results):\n",
    "    adj = [[0 for _ in range(n)] for _ in range(n)]\n",
    "    \n",
    "    for result in results:\n",
    "        l , w = result\n",
    "        l -= 1\n",
    "        w -= 1\n",
    "        adj[l][w] = -1\n",
    "        adj[w][l] = 1\n",
    "        \n",
    "    for player in range(n):\n",
    "        adj[player]\n",
    "        \n",
    "    visited = [False for _ in range(n)]\n",
    "    \n",
    "    \n",
    "    def dfs(here,up):\n",
    "        \n",
    "        print(\"dfs >>\", up, \"climbs \", here)\n",
    "        visited[here] = True\n",
    "        \n",
    "        for there in range(n):\n",
    "            if(!visited[there] & adj[here][there] == up):\n",
    "                if(up):\n",
    "                    for \n",
    "                dfs(there, up)\n",
    "        \n",
    "        \n",
    "        \n",
    "    return count_ranked()\n",
    "    "
   ]
  },
  {
   "cell_type": "code",
   "execution_count": 62,
   "metadata": {},
   "outputs": [
    {
     "name": "stdout",
     "output_type": "stream",
     "text": [
      "1 win  0\n",
      "0 win  2\n",
      "3 win  2\n",
      "2 win  4\n",
      "4 win  1\n",
      "2 win  1\n",
      "1 win  3\n",
      "4 win  3\n",
      "dfs visits  3\n",
      "dfs visits  1\n",
      "dfs visits  4\n",
      "dfs visits  2\n",
      "dfs visits  0\n",
      "[[0, -1, 1, 0, 0], [1, 0, -1, 1, -1], [-1, 1, 0, -1, 1], [0, -1, 1, 0, -1], [0, 1, -1, 1, 0]]\n",
      "0 fights  2  times\n",
      "1 fights  4  times\n",
      "2 fights  4  times\n",
      "3 fights  3  times\n",
      "4 fights  3  times\n",
      "2\n"
     ]
    }
   ],
   "source": [
    "print(solution(5 ,[[1,2],[2,3],[3,4],[4,5]])) #2"
   ]
  },
  {
   "cell_type": "code",
   "execution_count": null,
   "metadata": {},
   "outputs": [],
   "source": []
  },
  {
   "cell_type": "code",
   "execution_count": null,
   "metadata": {},
   "outputs": [],
   "source": []
  }
 ],
 "metadata": {
  "kernelspec": {
   "display_name": "Python 3",
   "language": "python",
   "name": "python3"
  },
  "language_info": {
   "codemirror_mode": {
    "name": "ipython",
    "version": 3
   },
   "file_extension": ".py",
   "mimetype": "text/x-python",
   "name": "python",
   "nbconvert_exporter": "python",
   "pygments_lexer": "ipython3",
   "version": "3.7.3"
  }
 },
 "nbformat": 4,
 "nbformat_minor": 2
}
