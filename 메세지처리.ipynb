{
 "cells": [
  {
   "cell_type": "code",
   "execution_count": 1,
   "metadata": {},
   "outputs": [
    {
     "name": "stdout",
     "output_type": "stream",
     "text": [
      "5 2\n",
      "3\n",
      "4\n",
      "5\n",
      "6\n",
      "7\n",
      "['3', '4', '5', '6', '7']\n"
     ]
    }
   ],
   "source": [
    "a, b = map(int, input().strip().split(' '))\n",
    "m = [0 for _ in range(a)]\n",
    "\n",
    "for line in range(a):\n",
    "    m[line] = input()\n",
    "    \n",
    "    \n",
    "print(m)"
   ]
  },
  {
   "cell_type": "code",
   "execution_count": 6,
   "metadata": {},
   "outputs": [],
   "source": [
    "m = [4,3,5,2,8]\n",
    "p = 5\n",
    "num_proc =2"
   ]
  },
  {
   "cell_type": "code",
   "execution_count": 9,
   "metadata": {},
   "outputs": [],
   "source": [
    "def message_process_time(m,p,num_proc):\n",
    "    proc = [0 for _ in range(b)]\n",
    "    import heapq\n",
    "    hq = []\n",
    "    for i in range(num_proc):\n",
    "        heapq.heappush(hq,m[i])\n",
    "        p -= 1\n",
    "        if(p == 0):\n",
    "            answer = max(heapq)\n",
    "            return answer\n",
    "\n",
    "    index = num_proc \n",
    "    while(p>0):\n",
    "        endProc = heapq.heappop(hq)\n",
    "        newProc = endProc + m[index]\n",
    "        heapq.heappush(hq,newProc)\n",
    "        index += 1\n",
    "        p -= 1\n",
    "    answer = max(hq)\n",
    "    return answer"
   ]
  },
  {
   "cell_type": "code",
   "execution_count": 10,
   "metadata": {},
   "outputs": [
    {
     "data": {
      "text/plain": [
       "14"
      ]
     },
     "execution_count": 10,
     "metadata": {},
     "output_type": "execute_result"
    }
   ],
   "source": [
    "message_process_time(m,p,num_proc)"
   ]
  },
  {
   "cell_type": "code",
   "execution_count": null,
   "metadata": {},
   "outputs": [],
   "source": []
  }
 ],
 "metadata": {
  "kernelspec": {
   "display_name": "Python 3",
   "language": "python",
   "name": "python3"
  },
  "language_info": {
   "codemirror_mode": {
    "name": "ipython",
    "version": 3
   },
   "file_extension": ".py",
   "mimetype": "text/x-python",
   "name": "python",
   "nbconvert_exporter": "python",
   "pygments_lexer": "ipython3",
   "version": "3.7.3"
  }
 },
 "nbformat": 4,
 "nbformat_minor": 2
}
