{
 "cells": [
  {
   "cell_type": "code",
   "execution_count": 1,
   "metadata": {},
   "outputs": [],
   "source": [
    "def solution(key, lock):\n",
    "    n = len(key)\n",
    "    m = len(lock)\n",
    "    answer = True\n",
    "    FK = fk(key)\n",
    "    FK = \n",
    "    return answer"
   ]
  },
  {
   "cell_type": "code",
   "execution_count": 2,
   "metadata": {},
   "outputs": [],
   "source": [
    "def rotate(key):\n",
    "    n = len(key)\n",
    "    newKey = [[0 for i in range(n)] for j in range(n)]\n",
    "    for row in range(n):\n",
    "        for col in range(n):\n",
    "            newKey[col][n - 1 - row] = key[row][col]\n",
    "    return newKey\n",
    "\n",
    "#four keys\n",
    "def fk(key):\n",
    "    n = len(key)\n",
    "    ret = []\n",
    "    ret.append(key)\n",
    "    for i in range(3):\n",
    "        key = rotate(key)\n",
    "        ret.append(key)\n",
    "    return ret\n",
    "\n",
    "\n",
    "            \n",
    "    "
   ]
  },
  {
   "cell_type": "code",
   "execution_count": 3,
   "metadata": {},
   "outputs": [
    {
     "data": {
      "text/plain": [
       "[[[1, 0], [0, 0]], [[0, 1], [0, 0]], [[0, 0], [0, 1]], [[0, 0], [1, 0]]]"
      ]
     },
     "execution_count": 3,
     "metadata": {},
     "output_type": "execute_result"
    }
   ],
   "source": [
    "fk([[1,0],[0,0]])"
   ]
  },
  {
   "cell_type": "code",
   "execution_count": null,
   "metadata": {},
   "outputs": [],
   "source": []
  }
 ],
 "metadata": {
  "kernelspec": {
   "display_name": "Python 3",
   "language": "python",
   "name": "python3"
  },
  "language_info": {
   "codemirror_mode": {
    "name": "ipython",
    "version": 3
   },
   "file_extension": ".py",
   "mimetype": "text/x-python",
   "name": "python",
   "nbconvert_exporter": "python",
   "pygments_lexer": "ipython3",
   "version": "3.7.3"
  }
 },
 "nbformat": 4,
 "nbformat_minor": 2
}
