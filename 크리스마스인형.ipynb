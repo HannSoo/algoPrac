{
 "cells": [
  {
   "cell_type": "code",
   "execution_count": 24,
   "metadata": {},
   "outputs": [],
   "source": [
    "def solution(boxes):\n",
    "    import time\n",
    "    start = time.time()\n",
    "    P = [sum(boxes[:i+1]) for i in range(len(boxes))]\n",
    "    print(P)\n",
    "    print(time.time()- start)\n",
    "    return"
   ]
  },
  {
   "cell_type": "code",
   "execution_count": 29,
   "metadata": {},
   "outputs": [
    {
     "name": "stdout",
     "output_type": "stream",
     "text": [
      "[12, 15, 19, 24, 30]\n",
      "0.0005018711090087891\n"
     ]
    }
   ],
   "source": [
    "solution([12,3,4,5,6])"
   ]
  },
  {
   "cell_type": "code",
   "execution_count": 34,
   "metadata": {},
   "outputs": [],
   "source": [
    "def solution1(boxes,K):\n",
    "    \n",
    "    N = len(boxes) \n",
    "    \n",
    "    P = [0 for i in range(N)]\n",
    "    pSum = 0\n",
    "    for i,box in enumerate(boxes):\n",
    "        pSum += box\n",
    "        P[i] = pSum % K\n",
    "    PI = [[P[i],i] for i in range(N)]\n",
    "    PI.sort()\n",
    "    ret = 0\n",
    "    for i in range(1,N):\n",
    "        if not(PI[i][0] - PI[i-1][0]):\n",
    "             ret +=1\n",
    "    \n",
    "    \n",
    "    return ret"
   ]
  },
  {
   "cell_type": "code",
   "execution_count": 36,
   "metadata": {},
   "outputs": [
    {
     "data": {
      "text/plain": [
       "1"
      ]
     },
     "execution_count": 36,
     "metadata": {},
     "output_type": "execute_result"
    }
   ],
   "source": [
    "solution1([12,3,4,5,6,23,2],7)"
   ]
  },
  {
   "cell_type": "markdown",
   "metadata": {},
   "source": [
    "최대 횟수를 구하는 방법은. 동적계획법\n",
    "i번째 인덱스까지 최대 횟수를 리턴하는 함수\n",
    "func(i) 가 있다고 할때,\n",
    "i번째 상자를 이용하면 j번째 ~ i번째\n",
    "func(j) + 1과 같고\n",
    "i번째를 이용하지 않으면\n",
    "func(i -1) 과 같다."
   ]
  }
 ],
 "metadata": {
  "kernelspec": {
   "display_name": "Python 3",
   "language": "python",
   "name": "python3"
  },
  "language_info": {
   "codemirror_mode": {
    "name": "ipython",
    "version": 3
   },
   "file_extension": ".py",
   "mimetype": "text/x-python",
   "name": "python",
   "nbconvert_exporter": "python",
   "pygments_lexer": "ipython3",
   "version": "3.7.3"
  }
 },
 "nbformat": 4,
 "nbformat_minor": 2
}
