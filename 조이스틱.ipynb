{
 "cells": [
  {
   "cell_type": "code",
   "execution_count": 15,
   "metadata": {},
   "outputs": [],
   "source": [
    "def solution(name):\n",
    "    N = len(name)\n",
    "    def transform(l):\n",
    "        return ord(l) - ord('A')\n",
    "    prev = 0\n",
    "    tf =[ -1 for i in range(N)]\n",
    "    chng = []\n",
    "    \n",
    "    ret = 0\n",
    "    chg = 0\n",
    "    for i in range(N):\n",
    "        t = transform(name[i])\n",
    "        ret += t\n",
    "        if(t != 0 ):\n",
    "            chng.append(i)\n",
    "            chg += 1\n",
    "    \n",
    "    if(N < 3):\n",
    "        return ret + 1\n",
    "    begin = chng[0]\n",
    "    end = chng[-1]\n",
    "    \n",
    "    cnt = 0\n",
    "    pos = 0\n",
    "    \n",
    "    ret = 0\n",
    "    while(cnt < chg):\n",
    "        print(chng, cnt)\n",
    "        if(begin >= pos):\n",
    "            goBegin = begin - pos\n",
    "            goEnd = pos + N - end\n",
    "        elif(pos >= end):\n",
    "            goBegin = N - pos + begin\n",
    "            goEnd = pos - end\n",
    "        else:\n",
    "            print(\"pos의 위치가 이상함\")\n",
    "            print(\"begin, end, pos >> \", begin, end, pos)\n",
    "        \n",
    "        cnt += 1\n",
    "        if(goBegin <= goEnd):\n",
    "            ret += goBegin\n",
    "            pos = begin\n",
    "            chng.pop(0)\n",
    "            begin = chng[0]\n",
    "        else:\n",
    "            ret += goEnd\n",
    "            pos = end\n",
    "            chng.pop()\n",
    "            end = chng[-1]\n",
    "    \n",
    "    return ret"
   ]
  },
  {
   "cell_type": "code",
   "execution_count": 16,
   "metadata": {},
   "outputs": [
    {
     "name": "stdout",
     "output_type": "stream",
     "text": [
      "[1, 3] 0\n",
      "[3] 1\n"
     ]
    },
    {
     "ename": "IndexError",
     "evalue": "list index out of range",
     "output_type": "error",
     "traceback": [
      "\u001b[1;31m---------------------------------------------------------------------------\u001b[0m",
      "\u001b[1;31mIndexError\u001b[0m                                Traceback (most recent call last)",
      "\u001b[1;32m<ipython-input-16-9188a04adb35>\u001b[0m in \u001b[0;36m<module>\u001b[1;34m\u001b[0m\n\u001b[1;32m----> 1\u001b[1;33m \u001b[0msolution\u001b[0m\u001b[1;33m(\u001b[0m\u001b[1;34m\"AJAN\"\u001b[0m\u001b[1;33m)\u001b[0m\u001b[1;33m\u001b[0m\u001b[1;33m\u001b[0m\u001b[0m\n\u001b[0m",
      "\u001b[1;32m<ipython-input-15-d6b4d42e3010>\u001b[0m in \u001b[0;36msolution\u001b[1;34m(name)\u001b[0m\n\u001b[0;32m     42\u001b[0m             \u001b[0mpos\u001b[0m \u001b[1;33m=\u001b[0m \u001b[0mbegin\u001b[0m\u001b[1;33m\u001b[0m\u001b[1;33m\u001b[0m\u001b[0m\n\u001b[0;32m     43\u001b[0m             \u001b[0mchng\u001b[0m\u001b[1;33m.\u001b[0m\u001b[0mpop\u001b[0m\u001b[1;33m(\u001b[0m\u001b[1;36m0\u001b[0m\u001b[1;33m)\u001b[0m\u001b[1;33m\u001b[0m\u001b[1;33m\u001b[0m\u001b[0m\n\u001b[1;32m---> 44\u001b[1;33m             \u001b[0mbegin\u001b[0m \u001b[1;33m=\u001b[0m \u001b[0mchng\u001b[0m\u001b[1;33m[\u001b[0m\u001b[1;36m0\u001b[0m\u001b[1;33m]\u001b[0m\u001b[1;33m\u001b[0m\u001b[1;33m\u001b[0m\u001b[0m\n\u001b[0m\u001b[0;32m     45\u001b[0m         \u001b[1;32melse\u001b[0m\u001b[1;33m:\u001b[0m\u001b[1;33m\u001b[0m\u001b[1;33m\u001b[0m\u001b[0m\n\u001b[0;32m     46\u001b[0m             \u001b[0mret\u001b[0m \u001b[1;33m+=\u001b[0m \u001b[0mgoEnd\u001b[0m\u001b[1;33m\u001b[0m\u001b[1;33m\u001b[0m\u001b[0m\n",
      "\u001b[1;31mIndexError\u001b[0m: list index out of range"
     ]
    }
   ],
   "source": [
    "solution(\"AJAN\")"
   ]
  },
  {
   "cell_type": "code",
   "execution_count": null,
   "metadata": {},
   "outputs": [],
   "source": []
  }
 ],
 "metadata": {
  "kernelspec": {
   "display_name": "Python 3",
   "language": "python",
   "name": "python3"
  },
  "language_info": {
   "codemirror_mode": {
    "name": "ipython",
    "version": 3
   },
   "file_extension": ".py",
   "mimetype": "text/x-python",
   "name": "python",
   "nbconvert_exporter": "python",
   "pygments_lexer": "ipython3",
   "version": "3.7.3"
  }
 },
 "nbformat": 4,
 "nbformat_minor": 2
}
