{
 "cells": [
  {
   "cell_type": "code",
   "execution_count": 7,
   "metadata": {},
   "outputs": [],
   "source": [
    "#O(N)에 끝내는 동적계획법 만들기\n",
    "\n",
    "#N명 K번째마다 사살\n",
    "#마지막 한 명까지 카운트하기\n",
    "def solution(N,K):\n",
    "    \n",
    "    #i명 째 죽일 차례에 어떤놈을 죽여야 하는가\n",
    "    #죽어야하는 사람 리턴\n",
    "    \n",
    "    #여태 누굴 죽였는지를 알아야, 다음 사람을 죽일 수 있으므로,\n",
    "    #현재 살아있는 사람들을 배열로 전달한다.\n",
    "    #따라서 순환식? 동적계획법 구현...\n",
    "    lives = [i for i in range(N)]\n",
    "    alive = N\n",
    "    lastKilled = 0\n",
    "    \n",
    "    path = []\n",
    "    for kill in range(N):\n",
    "        lastKilled = (lastKilled + K - 1) % alive\n",
    "        path.append(lives[lastKilled])\n",
    "        del lives[lastKilled]\n",
    "        alive -= 1\n",
    "        if(lastKilled == alive):\n",
    "            lastKilled = 0\n",
    "    \n",
    "    print(path)\n",
    "    return"
   ]
  },
  {
   "cell_type": "code",
   "execution_count": 8,
   "metadata": {},
   "outputs": [
    {
     "name": "stdout",
     "output_type": "stream",
     "text": [
      "[6, 3, 1, 0, 2, 5, 9, 4, 7, 8]\n"
     ]
    }
   ],
   "source": [
    "solution(10,7)"
   ]
  },
  {
   "cell_type": "code",
   "execution_count": null,
   "metadata": {},
   "outputs": [],
   "source": []
  }
 ],
 "metadata": {
  "kernelspec": {
   "display_name": "Python 3",
   "language": "python",
   "name": "python3"
  },
  "language_info": {
   "codemirror_mode": {
    "name": "ipython",
    "version": 3
   },
   "file_extension": ".py",
   "mimetype": "text/x-python",
   "name": "python",
   "nbconvert_exporter": "python",
   "pygments_lexer": "ipython3",
   "version": "3.7.3"
  }
 },
 "nbformat": 4,
 "nbformat_minor": 2
}
