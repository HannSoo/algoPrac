{
 "cells": [
  {
   "cell_type": "code",
   "execution_count": 25,
   "metadata": {},
   "outputs": [],
   "source": [
    "def solution(prices):\n",
    "    import bisect\n",
    "    len_prices = len(prices)    \n",
    "    answer =  [len_prices - i  for i in range(0,len_prices)]\n",
    "    \n",
    "    price_i = [] # increasingly\n",
    "    price_p = [] # increasingly\n",
    "    \n",
    "    for i, p in enumerate(prices):\n",
    "        index = bisect.bisect_right(price_p,p)\n",
    "        \n",
    "        print(price_p,i,p,index)\n",
    "        for j in price_i[index:]:\n",
    "            answer[j] = i - j\n",
    "        price_p = price_p[:index]\n",
    "        price_i = price_i[:index]\n",
    "        \n",
    "        price_p.append(p)\n",
    "        price_i.append(i)\n",
    "        \n",
    "    return answer"
   ]
  },
  {
   "cell_type": "code",
   "execution_count": 26,
   "metadata": {},
   "outputs": [
    {
     "name": "stdout",
     "output_type": "stream",
     "text": [
      "[] 0 4 0\n",
      "[4] 1 3 0\n",
      "[3] 2 2 0\n",
      "[2] 3 3 1\n",
      "[2, 3] 4 2 1\n",
      "[2, 2] 5 1 0\n"
     ]
    },
    {
     "data": {
      "text/plain": [
       "[1, 1, 3, 1, 1, 1]"
      ]
     },
     "execution_count": 26,
     "metadata": {},
     "output_type": "execute_result"
    }
   ],
   "source": [
    "solution([4,3,2,3,2,1])"
   ]
  },
  {
   "cell_type": "code",
   "execution_count": 10,
   "metadata": {},
   "outputs": [
    {
     "data": {
      "text/plain": [
       "<function __main__.solution(prices)>"
      ]
     },
     "execution_count": 10,
     "metadata": {},
     "output_type": "execute_result"
    }
   ],
   "source": [
    "solution"
   ]
  },
  {
   "cell_type": "code",
   "execution_count": null,
   "metadata": {},
   "outputs": [],
   "source": []
  }
 ],
 "metadata": {
  "kernelspec": {
   "display_name": "Python 3",
   "language": "python",
   "name": "python3"
  },
  "language_info": {
   "codemirror_mode": {
    "name": "ipython",
    "version": 3
   },
   "file_extension": ".py",
   "mimetype": "text/x-python",
   "name": "python",
   "nbconvert_exporter": "python",
   "pygments_lexer": "ipython3",
   "version": "3.7.3"
  }
 },
 "nbformat": 4,
 "nbformat_minor": 2
}
