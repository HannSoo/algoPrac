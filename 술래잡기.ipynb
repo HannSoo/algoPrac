{
 "cells": [
  {
   "cell_type": "code",
   "execution_count": 7,
   "metadata": {},
   "outputs": [
    {
     "name": "stdout",
     "output_type": "stream",
     "text": [
      "9 9\n",
      "2 3\n"
     ]
    }
   ],
   "source": [
    "mapSize = input().strip().split(' ')\n",
    "dst = input().strip().split(' ')\n",
    "col ,row = int(mapSize[0]), int(mapSize[1])\n",
    "x, y = int(dst[0]), int(dst[1])"
   ]
  },
  {
   "cell_type": "code",
   "execution_count": 8,
   "metadata": {},
   "outputs": [],
   "source": [
    "def factorial(num):\n",
    "    answer = 1\n",
    "    for i in range(1,num+1):\n",
    "        answer *= i\n",
    "    return answer\n"
   ]
  },
  {
   "cell_type": "code",
   "execution_count": 13,
   "metadata": {},
   "outputs": [
    {
     "name": "stdout",
     "output_type": "stream",
     "text": [
      "9 9 2 3\n"
     ]
    }
   ],
   "source": [
    "print(row,col,x,y)"
   ]
  },
  {
   "cell_type": "code",
   "execution_count": 15,
   "metadata": {},
   "outputs": [
    {
     "name": "stdout",
     "output_type": "stream",
     "text": [
      "5\n",
      "10\n"
     ]
    }
   ],
   "source": [
    "if(col < x | row < y):\n",
    "    print(\"fail\")\n",
    "else:\n",
    "    print(x+y)\n",
    "    print(factorial(x+y)//(factorial(x) * factorial(y)))"
   ]
  },
  {
   "cell_type": "code",
   "execution_count": 19,
   "metadata": {},
   "outputs": [
    {
     "name": "stdout",
     "output_type": "stream",
     "text": [
      "2 3\n",
      "3 3\n",
      "fail\n"
     ]
    }
   ],
   "source": [
    "mapSize = input().strip().split(' ')\n",
    "dst = input().strip().split(' ')\n",
    "col ,row = int(mapSize[0]), int(mapSize[1])\n",
    "x, y = int(dst[0]), int(dst[1])\n",
    "def factorial(num):\n",
    "    answer = 1\n",
    "    for i in range(1,num+1):\n",
    "        answer *= i\n",
    "\n",
    "    return answer\n",
    "\n",
    "if(col < x) | (row < y):\n",
    "    print(\"fail\")\n",
    "else:\n",
    "    print(x+y)\n",
    "    print(factorial(x+y)//(factorial(x) * factorial(y)))"
   ]
  },
  {
   "cell_type": "code",
   "execution_count": null,
   "metadata": {},
   "outputs": [],
   "source": []
  }
 ],
 "metadata": {
  "kernelspec": {
   "display_name": "Python 3",
   "language": "python",
   "name": "python3"
  },
  "language_info": {
   "codemirror_mode": {
    "name": "ipython",
    "version": 3
   },
   "file_extension": ".py",
   "mimetype": "text/x-python",
   "name": "python",
   "nbconvert_exporter": "python",
   "pygments_lexer": "ipython3",
   "version": "3.7.3"
  }
 },
 "nbformat": 4,
 "nbformat_minor": 2
}
