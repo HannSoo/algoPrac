{
 "cells": [
  {
   "cell_type": "raw",
   "metadata": {},
   "source": [
    "참가자 a에 대해서\n",
    "참가자 a가 먹은\n",
    "라면 : q(a)\n",
    "문제 : p(a)\n",
    "했을때\n",
    "임의의 참가자 a,b에 대해서\n",
    "q(a) < q(b)\n",
    "p(a) < p(b)\n",
    "이면 a는 nerd일 수 없다\n",
    "players[i] = i번째 참가자가 풀은 문제, 먹은 라면 수\n",
    "일 때 players가 주어졌을 때, 해당 대회에 참가할 수 있는 사람의 수를 구하시오."
   ]
  },
  {
   "cell_type": "code",
   "execution_count": 1,
   "metadata": {},
   "outputs": [],
   "source": [
    "\"\"\"\n",
    "라면에 대한 오름차순 순서와\n",
    "문제애 대한 내림차순 순서가 같아야한다.\n",
    "\"\"\"\n",
    "def isNerd(players):\n",
    "    import bisect\n",
    "    probs = []\n",
    "    foods = []\n",
    "    ret = 0\n",
    "    for player in players:\n",
    "        p, f = player\n",
    "        pi = bisect.bisect(probs,p)\n",
    "        fi = bisect.bisect(foods,-f)\n",
    "        if(pi != fi):\n",
    "            continue\n",
    "        probs.insert(pi,p)\n",
    "        foods.insert(fi,-f)\n",
    "        ret += 1\n",
    "    return ret"
   ]
  },
  {
   "cell_type": "code",
   "execution_count": 7,
   "metadata": {},
   "outputs": [
    {
     "name": "stdout",
     "output_type": "stream",
     "text": [
      "인간쪽수4\n",
      "72 50\n",
      "57 67\n",
      "74 55\n",
      "64 60\n"
     ]
    }
   ],
   "source": [
    "\n",
    "n = int(input(\"인간쪽수\"))\n",
    "players = [[] for _ in range(n)]\n",
    "for i in range(n):\n",
    "    p, q = input().split()\n",
    "    players[i] = int(p), int(q)"
   ]
  },
  {
   "cell_type": "code",
   "execution_count": 8,
   "metadata": {},
   "outputs": [
    {
     "data": {
      "text/plain": [
       "3"
      ]
     },
     "execution_count": 8,
     "metadata": {},
     "output_type": "execute_result"
    }
   ],
   "source": [
    "isNerd(players)"
   ]
  },
  {
   "cell_type": "code",
   "execution_count": null,
   "metadata": {},
   "outputs": [],
   "source": []
  }
 ],
 "metadata": {
  "kernelspec": {
   "display_name": "Python 3",
   "language": "python",
   "name": "python3"
  },
  "language_info": {
   "codemirror_mode": {
    "name": "ipython",
    "version": 3
   },
   "file_extension": ".py",
   "mimetype": "text/x-python",
   "name": "python",
   "nbconvert_exporter": "python",
   "pygments_lexer": "ipython3",
   "version": "3.7.3"
  }
 },
 "nbformat": 4,
 "nbformat_minor": 2
}
