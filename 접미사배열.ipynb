{
 "cells": [
  {
   "cell_type": "code",
   "execution_count": 4,
   "metadata": {},
   "outputs": [
    {
     "ename": "SyntaxError",
     "evalue": "invalid syntax (<ipython-input-4-3588aee1d6a3>, line 30)",
     "output_type": "error",
     "traceback": [
      "\u001b[1;36m  File \u001b[1;32m\"<ipython-input-4-3588aee1d6a3>\"\u001b[1;36m, line \u001b[1;32m30\u001b[0m\n\u001b[1;33m    perm.sort(lambda key = Comparator(x,y,t))\u001b[0m\n\u001b[1;37m                                            ^\u001b[0m\n\u001b[1;31mSyntaxError\u001b[0m\u001b[1;31m:\u001b[0m invalid syntax\n"
     ]
    }
   ],
   "source": [
    "#word의 접미사 배열을 리턴한다\n",
    "#return : word의 접미사 배열\n",
    "def getSuffixArray(s):\n",
    "    n = len(s)\n",
    "    \"\"\"\n",
    "    group[i] : 접미사들을 첫 t글자를 기준으로 정렬했을 때,\n",
    "                S[i..]이 들어가는 그룹 번호.\n",
    "    t = 1일 때는 정렬할 것 없이 S[i..]의 첫 글자로 그룹 번호를\n",
    "    정해줘도 같은 효과가 있다.\n",
    "    \"\"\"\n",
    "    t = 1\n",
    "    group = [-1 for _ in range(n+1)]\n",
    "    for i in range(n):\n",
    "        group[i] = s[i]\n",
    "    \n",
    "    perm = [i for i in range(n)]\n",
    "    \n",
    "    def Comparator(i,j,t):\n",
    "        if(group[i] != group[j]):\n",
    "            return group[i] < group[b]\n",
    "        return group[i + t] < group[j + t]\n",
    "    \n",
    "        \n",
    "        \n",
    "    while(t < n):\n",
    "        \"\"\"\n",
    "        group[]]는 첫 t글자를 기준으로 계산해 두었다.\n",
    "        이제 첫 2t글자를 기준으로 perm을 다시 정렬한다.\n",
    "        \"\"\"\n",
    "        perm.sort(lambda key = Comparator(x,y,t))\n",
    "        t *= 2\n",
    "        if(t >= n):\n",
    "            break\n",
    "        newGroup = [-1 for _ in range(n+1)]\n",
    "        newGroup[perm[0]] = 0\n",
    "        for i in range(1,n):\n",
    "            if(Comparator(perm[i-1],perm[i])):\n",
    "                newGroup[perm[i]] = newGroup[perm[i-1]] + 1\n",
    "            else:\n",
    "                newGroup[perm[i]] = newGroup[perm[i-1]]\n",
    "        group = newGroup\n",
    "    return perm\n",
    "    \n",
    "    \n",
    "    \n",
    "    "
   ]
  },
  {
   "cell_type": "code",
   "execution_count": null,
   "metadata": {},
   "outputs": [],
   "source": []
  },
  {
   "cell_type": "code",
   "execution_count": null,
   "metadata": {},
   "outputs": [],
   "source": []
  }
 ],
 "metadata": {
  "kernelspec": {
   "display_name": "Python 3",
   "language": "python",
   "name": "python3"
  },
  "language_info": {
   "codemirror_mode": {
    "name": "ipython",
    "version": 3
   },
   "file_extension": ".py",
   "mimetype": "text/x-python",
   "name": "python",
   "nbconvert_exporter": "python",
   "pygments_lexer": "ipython3",
   "version": "3.7.3"
  }
 },
 "nbformat": 4,
 "nbformat_minor": 2
}
