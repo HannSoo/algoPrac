{
 "cells": [
  {
   "cell_type": "code",
   "execution_count": 12,
   "metadata": {},
   "outputs": [],
   "source": [
    "def solution(arrows):\n",
    "    from collections import defaultdict as dd\n",
    "    answer = 0\n",
    "    x, y = 0,0 \n",
    "    visited = dd(lambda: dd(lambda :[False for _ in range(4)]))\n",
    "    dx = [0,1,1,1,0,-1,-1,-1]\n",
    "    dy = [1,1,0,-1,-1,-1,0,1]\n",
    "    \n",
    "    for arrow in arrows:\n",
    "        for _ in range(2):\n",
    "            if(arrow < 4):\n",
    "                if(visited[y][x][arrow]):\n",
    "                    answer += 1\n",
    "                else:\n",
    "                    visited[y][x][arrow] = True\n",
    "            x += dx[arrow]\n",
    "            y += dy[arrow]\n",
    "            if(arrow <= 4):\n",
    "                if(visited[y][x][arrow - 4]):\n",
    "                    answer += 1\n",
    "                else:\n",
    "                    visited[y][x][arrow -4 ] = True\n",
    "        \n",
    "            \n",
    "    return answer"
   ]
  },
  {
   "cell_type": "code",
   "execution_count": 13,
   "metadata": {},
   "outputs": [
    {
     "data": {
      "text/plain": [
       "13"
      ]
     },
     "execution_count": 13,
     "metadata": {},
     "output_type": "execute_result"
    }
   ],
   "source": [
    "solution([6, 6, 6, 4, 4, 4, 2, 2, 2, 0, 0, 0, 1, 6, 5, 5, 3, 6, 0])"
   ]
  },
  {
   "cell_type": "code",
   "execution_count": 3,
   "metadata": {},
   "outputs": [
    {
     "data": {
      "text/plain": [
       "3"
      ]
     },
     "execution_count": 3,
     "metadata": {},
     "output_type": "execute_result"
    }
   ],
   "source": [
    "solution([1,6,3,7])"
   ]
  },
  {
   "cell_type": "code",
   "execution_count": null,
   "metadata": {},
   "outputs": [],
   "source": []
  }
 ],
 "metadata": {
  "kernelspec": {
   "display_name": "Python 3",
   "language": "python",
   "name": "python3"
  },
  "language_info": {
   "codemirror_mode": {
    "name": "ipython",
    "version": 3
   },
   "file_extension": ".py",
   "mimetype": "text/x-python",
   "name": "python",
   "nbconvert_exporter": "python",
   "pygments_lexer": "ipython3",
   "version": "3.7.3"
  }
 },
 "nbformat": 4,
 "nbformat_minor": 2
}
