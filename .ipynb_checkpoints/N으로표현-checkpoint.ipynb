{
 "cells": [
  {
   "cell_type": "code",
   "execution_count": 97,
   "metadata": {},
   "outputs": [],
   "source": [
    "def solution(N, number):\n",
    "    from collections import defaultdict as dd\n",
    "    dp = dd(lambda : 0)\n",
    "    visited = [[]]\n",
    "    number_1s = 1\n",
    "    answer = -1\n",
    "    for i in range(8):\n",
    "        visited.append([number_1s * N])\n",
    "        dp[number_1s* N] = i\n",
    "        number_1s = 10 * number_1s + 1\n",
    "    \n",
    "    k = 1\n",
    "    while(k < 9):\n",
    "        for i in range(1,k+1):\n",
    "            for num1 in visited[i]:\n",
    "                for num2 in visited[k - i]:\n",
    "                    if(num2 == 0):\n",
    "                        continue\n",
    "                    num_list = [num1 + num2, num1 - num2, num1 * num2, num1 // num2]\n",
    "                    \n",
    "                    for candidate_num in num_list:\n",
    "                        if not(dp[candidate_num]): # 여태 만들지 못했으면,\n",
    "                            if(candidate_num == number):\n",
    "                                answer = k\n",
    "                                return answer\n",
    "                            dp[candidate_num] = k\n",
    "                            visited[k].append(candidate_num)\n",
    "        k+=1\n",
    "        \n",
    "    for num in visited[8]:\n",
    "        if(num == number):\n",
    "            answer = 8\n",
    "            break\n",
    "        \n",
    "    return answer"
   ]
  },
  {
   "cell_type": "code",
   "execution_count": 98,
   "metadata": {},
   "outputs": [
    {
     "data": {
      "text/plain": [
       "8"
      ]
     },
     "execution_count": 98,
     "metadata": {},
     "output_type": "execute_result"
    }
   ],
   "source": [
    "solution(5,5555560)"
   ]
  },
  {
   "cell_type": "code",
   "execution_count": null,
   "metadata": {},
   "outputs": [],
   "source": []
  },
  {
   "cell_type": "code",
   "execution_count": null,
   "metadata": {},
   "outputs": [],
   "source": []
  },
  {
   "cell_type": "code",
   "execution_count": null,
   "metadata": {},
   "outputs": [],
   "source": []
  }
 ],
 "metadata": {
  "kernelspec": {
   "display_name": "Python 3",
   "language": "python",
   "name": "python3"
  },
  "language_info": {
   "codemirror_mode": {
    "name": "ipython",
    "version": 3
   },
   "file_extension": ".py",
   "mimetype": "text/x-python",
   "name": "python",
   "nbconvert_exporter": "python",
   "pygments_lexer": "ipython3",
   "version": "3.7.3"
  }
 },
 "nbformat": 4,
 "nbformat_minor": 2
}
