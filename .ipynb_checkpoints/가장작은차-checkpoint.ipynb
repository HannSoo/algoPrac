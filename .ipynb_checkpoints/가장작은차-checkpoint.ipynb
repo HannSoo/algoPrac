{
 "cells": [
  {
   "cell_type": "code",
   "execution_count": 3,
   "metadata": {},
   "outputs": [],
   "source": [
    "def solution(numbers):\n",
    "    p = [0 for _ in range(len(numbers))]\n",
    "    pSum = 0\n",
    "    for i, number in enumerate(numbers):\n",
    "        pSum += number\n",
    "        p[i] = pSum\n",
    "    pSumi = []\n",
    "    import bisect\n",
    "    for i, ps in enumerate(p):\n",
    "        pSumi.append([ps,i])\n",
    "    pSumi.sort()\n",
    "    minDif = pSumi[1][0] - pSumi[0][0]\n",
    "    i = j = 0\n",
    "    for ps in range(2,len(pSumi)):\n",
    "        dif = pSumi[ps][0] - pSumi[ps-1][0]\n",
    "        if(dif < minDif):\n",
    "            minDif = dif\n",
    "            j = pSumi[ps][1]\n",
    "            i = pSumi[ps-1][1]\n",
    "    return i+1,j\n",
    "        \n",
    "        "
   ]
  },
  {
   "cell_type": "code",
   "execution_count": 4,
   "metadata": {},
   "outputs": [
    {
     "data": {
      "text/plain": [
       "(2, 5)"
      ]
     },
     "execution_count": 4,
     "metadata": {},
     "output_type": "execute_result"
    }
   ],
   "source": [
    "solution([-14,7,2,3,-8,4,-6,8,9,11])"
   ]
  },
  {
   "cell_type": "code",
   "execution_count": null,
   "metadata": {},
   "outputs": [],
   "source": []
  }
 ],
 "metadata": {
  "kernelspec": {
   "display_name": "Python 3",
   "language": "python",
   "name": "python3"
  },
  "language_info": {
   "codemirror_mode": {
    "name": "ipython",
    "version": 3
   },
   "file_extension": ".py",
   "mimetype": "text/x-python",
   "name": "python",
   "nbconvert_exporter": "python",
   "pygments_lexer": "ipython3",
   "version": "3.7.3"
  }
 },
 "nbformat": 4,
 "nbformat_minor": 2
}
