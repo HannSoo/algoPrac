{
 "cells": [
  {
   "cell_type": "code",
   "execution_count": 1,
   "metadata": {},
   "outputs": [
    {
     "name": "stdout",
     "output_type": "stream",
     "text": [
      "1 2 4 5 6\n"
     ]
    }
   ],
   "source": [
    "a = []\n",
    "a = map(int, input().strip().split(' '))\n"
   ]
  },
  {
   "cell_type": "code",
   "execution_count": 7,
   "metadata": {},
   "outputs": [
    {
     "name": "stdout",
     "output_type": "stream",
     "text": [
      "1 2 3 4 5\n"
     ]
    }
   ],
   "source": [
    "a = input()\n",
    "b = a.strip().split(' ')\n",
    "for i in range(len(b)):\n",
    "    b[i] = int(b[i])"
   ]
  },
  {
   "cell_type": "code",
   "execution_count": 39,
   "metadata": {},
   "outputs": [],
   "source": [
    "from collections import defaultdict as dd\n",
    "using_nums = dd(lambda : 0)\n",
    "using_nums[0] = 1\n",
    "using_nums[1] = 2\n",
    "using_nums[2] = 1\n",
    "using_nums[4] = 1\n",
    "using_nums[5] = 1"
   ]
  },
  {
   "cell_type": "code",
   "execution_count": 20,
   "metadata": {},
   "outputs": [],
   "source": [
    "def factorial(num):\n",
    "    answer = 1\n",
    "    for i in range(1,num+1):\n",
    "        answer *= i\n",
    "    return answer"
   ]
  },
  {
   "cell_type": "code",
   "execution_count": 26,
   "metadata": {},
   "outputs": [
    {
     "name": "stdout",
     "output_type": "stream",
     "text": [
      "360\n"
     ]
    }
   ],
   "source": [
    "def countWays(using_nums,len_num): \n",
    "    #len_num 사용되는 숫자들의 갯수\n",
    "    answer = factorial(len_num)\n",
    "    div = 1\n",
    "    for i in range(10):\n",
    "        answer /= factorial(using_nums[i])\n",
    "    return int(answer)\n",
    "        \n",
    "print(countWays(using_nums,6))\n",
    "            "
   ]
  },
  {
   "cell_type": "code",
   "execution_count": 40,
   "metadata": {},
   "outputs": [],
   "source": [
    "def decideFront(using_nums,k,len_num):\n",
    "    if(len_num == 0):\n",
    "        return ''\n",
    "    ranks = 0\n",
    "    front = ''\n",
    "    for i in range(10):\n",
    "        if(using_nums[i]): #해당되는 숫자가 사용되면,\n",
    "            using_nums[i] -= 1\n",
    "            count = countWays(using_nums,len_num)\n",
    "            if( count + ranks > k):\n",
    "                front = str(i)\n",
    "                break\n",
    "            print(i,\"를 사용한게아님\")\n",
    "            using_nums[i] += 1\n",
    "            ranks += count\n",
    "    answer = front + decideFront(using_nums,k-ranks,len_num -1)\n",
    "    return answer"
   ]
  },
  {
   "cell_type": "code",
   "execution_count": 41,
   "metadata": {},
   "outputs": [
    {
     "name": "stdout",
     "output_type": "stream",
     "text": [
      "2 를 사용한게아님\n"
     ]
    },
    {
     "data": {
      "text/plain": [
       "'011425'"
      ]
     },
     "execution_count": 41,
     "metadata": {},
     "output_type": "execute_result"
    }
   ],
   "source": [
    "decideFront(using_nums,6,6)"
   ]
  },
  {
   "cell_type": "code",
   "execution_count": null,
   "metadata": {},
   "outputs": [],
   "source": []
  }
 ],
 "metadata": {
  "kernelspec": {
   "display_name": "Python 3",
   "language": "python",
   "name": "python3"
  },
  "language_info": {
   "codemirror_mode": {
    "name": "ipython",
    "version": 3
   },
   "file_extension": ".py",
   "mimetype": "text/x-python",
   "name": "python",
   "nbconvert_exporter": "python",
   "pygments_lexer": "ipython3",
   "version": "3.7.3"
  }
 },
 "nbformat": 4,
 "nbformat_minor": 2
}
