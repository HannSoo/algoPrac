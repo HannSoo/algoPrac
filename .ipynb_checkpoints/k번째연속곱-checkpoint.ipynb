{
 "cells": [
  {
   "cell_type": "code",
   "execution_count": 1,
   "metadata": {},
   "outputs": [],
   "source": [
    "\n"
   ]
  },
  {
   "cell_type": "code",
   "execution_count": 41,
   "metadata": {},
   "outputs": [],
   "source": [
    "def solution(n):\n",
    "    if( n== 1):\n",
    "        return 2\n",
    "    import heapq\n",
    "    from collections import defaultdict as dd\n",
    "    calculated_fact = dd(int)\n",
    "    def factorial(n): #다이나믹 프로그래밍 사용바람\n",
    "        if(n == 0):\n",
    "            return 1\n",
    "        if(calculated_fact[n]):\n",
    "            return calculated_fact[n]\n",
    "        else:\n",
    "            mul = n * factorial(n-1)\n",
    "            calculated_fact[n] = mul\n",
    "            return mul\n",
    "\n",
    "    \n",
    "    fact = 1\n",
    "    num =1\n",
    "    hq = []\n",
    "    while(fact < n * (n+1)):\n",
    "        num+= 1\n",
    "        fact *= num\n",
    "        #(i -1)까지 사용될 수 있음\n",
    "    visited = dd(lambda : False)\n",
    "    for i in range(2,num):\n",
    "        heapq.heappush(hq,[factorial(i),i,1])\n",
    "    print(hq)\n",
    "    count = 0\n",
    "    \n",
    "    while(count < n):\n",
    "        number, num_of_used, start_num = heapq.heappop(hq)\n",
    "        if not(visited[number]):\n",
    "            count += 1\n",
    "            visited[number] = True\n",
    "            if(count == n):\n",
    "                answer = number\n",
    "                break\n",
    "        next_number = factorial(num_of_used + start_num) // factorial(start_num)\n",
    "        start_num += 1\n",
    "        heapq.heappush(hq,[next_number,num_of_used,start_num])\n",
    "        print(hq)\n",
    "            \n",
    "    return answer\n",
    "        "
   ]
  },
  {
   "cell_type": "code",
   "execution_count": 42,
   "metadata": {},
   "outputs": [
    {
     "data": {
      "text/plain": [
       "2"
      ]
     },
     "execution_count": 42,
     "metadata": {},
     "output_type": "execute_result"
    }
   ],
   "source": [
    "solution(1)"
   ]
  },
  {
   "cell_type": "code",
   "execution_count": null,
   "metadata": {},
   "outputs": [],
   "source": []
  },
  {
   "cell_type": "code",
   "execution_count": null,
   "metadata": {},
   "outputs": [],
   "source": []
  }
 ],
 "metadata": {
  "kernelspec": {
   "display_name": "Python 3",
   "language": "python",
   "name": "python3"
  },
  "language_info": {
   "codemirror_mode": {
    "name": "ipython",
    "version": 3
   },
   "file_extension": ".py",
   "mimetype": "text/x-python",
   "name": "python",
   "nbconvert_exporter": "python",
   "pygments_lexer": "ipython3",
   "version": "3.7.3"
  }
 },
 "nbformat": 4,
 "nbformat_minor": 2
}
