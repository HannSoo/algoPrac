{
 "cells": [
  {
   "cell_type": "code",
   "execution_count": 31,
   "metadata": {},
   "outputs": [],
   "source": [
    "def solution(word):\n",
    "    alp = [0 for i in range(26)]\n",
    "    encode =[\"\" for _ in range(26)]\n",
    "    for letter in word:\n",
    "        lti = ord(letter) - ord('a')\n",
    "        alp[lti] += 1\n",
    "    \n",
    "    for i in range(26):\n",
    "        alp[i] = [alp[i], i]\n",
    "    \n",
    "    alp.sort(reverse = True)\n",
    "    code = \"\"\n",
    "    for used, letter in alp:\n",
    "        if(used == 0):\n",
    "            break\n",
    "        newCode = code + \"1\"\n",
    "        encode[letter] = newCode\n",
    "        lastLetter = letter\n",
    "        code += \"0\"\n",
    "        \n",
    "    encode[lastLetter] = encode[lastLetter][:-1]\n",
    "    \n",
    "    encoding = \"\"\n",
    "    for letter in word:\n",
    "        lti = ord(letter) - ord('a')\n",
    "        encoding += encode[lti]\n",
    "        \n",
    "    print(encode)\n",
    "    return encoding\n",
    "\n",
    "        "
   ]
  },
  {
   "cell_type": "code",
   "execution_count": 32,
   "metadata": {},
   "outputs": [
    {
     "name": "stdout",
     "output_type": "stream",
     "text": [
      "['', '', '', '', '', '', '', '', '000000', '', '', '000001', '', '00001', '1', '', '', '', '0001', '001', '01', '', '', '', '', '']\n"
     ]
    },
    {
     "data": {
      "text/plain": [
       "'0001100000101001000000100001'"
      ]
     },
     "execution_count": 32,
     "metadata": {},
     "output_type": "execute_result"
    }
   ],
   "source": [
    "solution(\"solution\")"
   ]
  },
  {
   "cell_type": "code",
   "execution_count": 26,
   "metadata": {},
   "outputs": [
    {
     "data": {
      "text/plain": [
       "'123'"
      ]
     },
     "execution_count": 26,
     "metadata": {},
     "output_type": "execute_result"
    }
   ],
   "source": [
    "\"1234\"[:-1]"
   ]
  },
  {
   "cell_type": "code",
   "execution_count": null,
   "metadata": {},
   "outputs": [],
   "source": []
  }
 ],
 "metadata": {
  "kernelspec": {
   "display_name": "Python 3",
   "language": "python",
   "name": "python3"
  },
  "language_info": {
   "codemirror_mode": {
    "name": "ipython",
    "version": 3
   },
   "file_extension": ".py",
   "mimetype": "text/x-python",
   "name": "python",
   "nbconvert_exporter": "python",
   "pygments_lexer": "ipython3",
   "version": "3.7.3"
  }
 },
 "nbformat": 4,
 "nbformat_minor": 2
}
