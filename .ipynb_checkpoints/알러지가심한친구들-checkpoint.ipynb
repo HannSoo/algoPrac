{
 "cells": [
  {
   "cell_type": "code",
   "execution_count": 1,
   "metadata": {},
   "outputs": [],
   "source": [
    "friends = [\"cl\",\"bom\",\"dara\",\"minzy\"]\n",
    "foods = [[\"dara\",\"minzy\"],[\"cl\",\"minzy\"],[\"cl\",\"dara\"],[\"cl\"],[\"bom\",\"dara\"],[\"bom\",\"minzy\"]]\n",
    "\n"
   ]
  },
  {
   "cell_type": "code",
   "execution_count": null,
   "metadata": {},
   "outputs": [],
   "source": [
    "\n",
    "#여태 무엇을 먹었는지, 몇가지나 먹었는지 \n",
    "\n",
    "def eating(friend,eaten):\n",
    "    #friend부터 끝에있는 친구까지 최소한으로 먹일수 있는 "
   ]
  }
 ],
 "metadata": {
  "kernelspec": {
   "display_name": "Python 3",
   "language": "python",
   "name": "python3"
  },
  "language_info": {
   "codemirror_mode": {
    "name": "ipython",
    "version": 3
   },
   "file_extension": ".py",
   "mimetype": "text/x-python",
   "name": "python",
   "nbconvert_exporter": "python",
   "pygments_lexer": "ipython3",
   "version": "3.7.3"
  }
 },
 "nbformat": 4,
 "nbformat_minor": 2
}
