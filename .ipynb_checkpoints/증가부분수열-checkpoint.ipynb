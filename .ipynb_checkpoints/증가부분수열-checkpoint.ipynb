{
 "cells": [
  {
   "cell_type": "code",
   "execution_count": 79,
   "metadata": {},
   "outputs": [],
   "source": [
    "def solution(numbers):\n",
    "    size = len(numbers)\n",
    "    # cache[m][n]은 inc(m,n)을 저장함\n",
    "    inc_nums = []\n",
    "    cache = [-1 for _ in range(size)]\n",
    "    \n",
    "    #C[i] = 지금까지 만든 부분 배열이 갖는 길이 i인 증가 부분 수열중 최소의 마지막 값\n",
    "    \n",
    "    \n",
    "    #m보다 크고 start_index부터 시작하는 수열 중에 원소 수가 가장 많은 증가수열을 리턴함\n",
    "    def inc_numbers(index):\n",
    "        \n",
    "        # 기저사례\n",
    "        if(index == size):\n",
    "            return 0\n",
    "        # 캐시에 저장되어있으면 반환\n",
    "        if(cache[index] != -1):\n",
    "            return cache[index]\n",
    "        m = numbers[index]\n",
    "        max_nums = 1\n",
    "        add = -1\n",
    "        for i, num in enumerate(numbers[index+1:]):\n",
    "            if(num > m):\n",
    "                if(max_nums < 1 +inc_numbers(i + index + 1)):\n",
    "                    max_nums = 1 + inc_numbers(i + index+ 1)\n",
    "                    add = num\n",
    "                \n",
    "        cache[index] = max_nums \n",
    "        inc_nums.append(add)\n",
    "        return max_nums\n",
    "    \n",
    "    max_number = 0\n",
    "    for i in range(size):\n",
    "        max_number = max(max_number,inc_numbers(i))\n",
    "    return max_number"
   ]
  },
  {
   "cell_type": "code",
   "execution_count": 80,
   "metadata": {},
   "outputs": [
    {
     "name": "stdout",
     "output_type": "stream",
     "text": [
      "4\n"
     ]
    }
   ],
   "source": [
    "print(solution([4,1,3,2,3,4]))"
   ]
  },
  {
   "cell_type": "code",
   "execution_count": null,
   "metadata": {},
   "outputs": [],
   "source": []
  },
  {
   "cell_type": "code",
   "execution_count": null,
   "metadata": {},
   "outputs": [],
   "source": []
  }
 ],
 "metadata": {
  "kernelspec": {
   "display_name": "Python 3",
   "language": "python",
   "name": "python3"
  },
  "language_info": {
   "codemirror_mode": {
    "name": "ipython",
    "version": 3
   },
   "file_extension": ".py",
   "mimetype": "text/x-python",
   "name": "python",
   "nbconvert_exporter": "python",
   "pygments_lexer": "ipython3",
   "version": "3.7.3"
  }
 },
 "nbformat": 4,
 "nbformat_minor": 2
}
