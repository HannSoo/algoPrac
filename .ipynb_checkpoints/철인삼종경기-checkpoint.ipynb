{
 "cells": [
  {
   "cell_type": "code",
   "execution_count": 3,
   "metadata": {},
   "outputs": [],
   "source": [
    "def tenary(lo,hi):\n",
    "    a = (2*lo + hi) /3\n",
    "    b = (lo + 2*hi) / 3\n",
    "    if(func(a) < func(b)):\n",
    "        hi = b\n",
    "    else:\n",
    "        lo = a\n",
    "    return (hi + lo)/2\n",
    "    "
   ]
  },
  {
   "cell_type": "code",
   "execution_count": 5,
   "metadata": {},
   "outputs": [],
   "source": [
    "# r : 참가자들의 달리기 속도\n",
    "# b : 참가자들의 자전거 속도\n",
    "# t : 뛰어야하는 거리\n",
    "# return : n-1번째 참가자가 2위와 가장 큰 격차를 벌리며 이기기위한 달리기 거리\n",
    "def ironMan(r,b,t):\n",
    "    n = len(r)\n",
    "    \n",
    "    # i : i번째 참가자가\n",
    "    # k : k만큼의 달리기, t-k만큼 자전거를 탔을때\n",
    "    # return : 걸리는 시간\n",
    "    def take_time(i,k):\n",
    "        return k / r[i] + (t - k) / b[i]\n",
    "    def runners(k):\n",
    "        ret = take_time(0,k)\n",
    "        for i in range(1,n-1):\n",
    "            ret = min(ret,take_time(i,k))\n",
    "        return ret\n",
    "    \n",
    "    def cheater(k):\n",
    "        ret = take_time(n-1,k)\n",
    "        return ret\n",
    "    \n",
    "    def diff(k):\n",
    "        return cheater(k) - runners(k)\n",
    "    \n",
    "    def time_to_win(lo,hi):\n",
    "        for i in range(100):\n",
    "            a = ( 2* lo + hi) /3\n",
    "            b = (lo + 2 * hi) /3\n",
    "            if(diff(a) < diff(b)):\n",
    "                hi = b\n",
    "            else:\n",
    "                lo = a\n",
    "        return (hi + lo) /2\n",
    "    return time_to_win(-1,t+1)\n",
    "    "
   ]
  },
  {
   "cell_type": "code",
   "execution_count": null,
   "metadata": {},
   "outputs": [],
   "source": []
  }
 ],
 "metadata": {
  "kernelspec": {
   "display_name": "Python 3",
   "language": "python",
   "name": "python3"
  },
  "language_info": {
   "codemirror_mode": {
    "name": "ipython",
    "version": 3
   },
   "file_extension": ".py",
   "mimetype": "text/x-python",
   "name": "python",
   "nbconvert_exporter": "python",
   "pygments_lexer": "ipython3",
   "version": "3.7.3"
  }
 },
 "nbformat": 4,
 "nbformat_minor": 2
}
