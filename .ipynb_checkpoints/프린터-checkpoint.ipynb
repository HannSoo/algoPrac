{
 "cells": [
  {
   "cell_type": "code",
   "execution_count": 3,
   "metadata": {},
   "outputs": [
    {
     "name": "stdout",
     "output_type": "stream",
     "text": [
      "4\n",
      "5\n"
     ]
    }
   ],
   "source": [
    "\n",
    "def solution(priorities, location):\n",
    "\n",
    "    def get_last_point(priorities,last_point,number):\n",
    "        num_p = len(priorities)\n",
    "        for i in range(1,last_point+1):\n",
    "            from_last_point_to_begin = last_point - i\n",
    "            if(priorities[from_last_point_to_begin]  == number):\n",
    "                return from_last_point_to_begin\n",
    "        for j in range(last_point,len(priorities)):\n",
    "            from_end_to_last_point = num_p - i - 1\n",
    "            if(priorities[from_end_to_last_point]):\n",
    "                return from_end_to_last_point\n",
    "        print(\"This is Error\")\n",
    "        return -1    \n",
    "\n",
    "    \n",
    "    num_p = len(priorities)\n",
    "    tg_p = priorities[location]\n",
    "    gl_p = 10 # 최대 값으로 초기화\n",
    "    g_p = 0\n",
    "    s_p = 0\n",
    "\n",
    "    last_point = 0\n",
    "    for i in range(10-tg_p):\n",
    "        prior = 10 - i \n",
    "        last_point = get_last_point(priorities,last_point,prior)\n",
    "        \n",
    "    for i in range(num_p):\n",
    "        p = priorities[i]\n",
    "        if( p > tg_p):\n",
    "            g_p += 1\n",
    "            \n",
    "    if(last_point < location):\n",
    "        for i in range(last_point,location+1):\n",
    "            p = priorities[i]\n",
    "            if(p == tg_p):\n",
    "                s_p += 1\n",
    "    else:\n",
    "        for i in range(0,location+1):\n",
    "            p = priorities[i]\n",
    "            if(p == tg_p):\n",
    "                s_p += 1\n",
    "        for i in range(last_point,num_p):\n",
    "            p = priorities[i]    \n",
    "            if(p == tg_p):\n",
    "                s_p += 1\n",
    "    answer = s_p + g_p\n",
    "    \n",
    "    return answer"
   ]
  },
  {
   "cell_type": "code",
   "execution_count": null,
   "metadata": {},
   "outputs": [],
   "source": []
  }
 ],
 "metadata": {
  "kernelspec": {
   "display_name": "Python 3",
   "language": "python",
   "name": "python3"
  },
  "language_info": {
   "codemirror_mode": {
    "name": "ipython",
    "version": 3
   },
   "file_extension": ".py",
   "mimetype": "text/x-python",
   "name": "python",
   "nbconvert_exporter": "python",
   "pygments_lexer": "ipython3",
   "version": "3.7.3"
  }
 },
 "nbformat": 4,
 "nbformat_minor": 2
}
