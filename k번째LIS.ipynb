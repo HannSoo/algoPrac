{
 "cells": [
  {
   "cell_type": "code",
   "execution_count": 27,
   "metadata": {},
   "outputs": [],
   "source": [
    "def solution(S):\n",
    "    size = len(S)\n",
    "    cache = [-1 for _ in range(size)]\n",
    "    path = [-1 for _ in range(size+1)]\n",
    "    S.append(-1000)\n",
    "    def lis(here):\n",
    "        if(here == size):\n",
    "            return 0\n",
    "        if(cache[here] != -1):\n",
    "            return cache[here]\n",
    "        \n",
    "        else:\n",
    "            ret = 1\n",
    "            mem = -1\n",
    "            for next in range(here + 1,size):\n",
    "                if(here == -1) or (S[here] < S[next]):\n",
    "                    if(ret < lis(next) + 1):\n",
    "                        ret = lis(next) + 1\n",
    "                        mem = next\n",
    "\n",
    "            cache[here] = ret\n",
    "            path[here + 1] = mem\n",
    "            return cache[here]\n",
    "    answer =lis(-1)\n",
    "    print(path)\n",
    "    print(cache)\n",
    "    return answer\n",
    "\n",
    "            \n",
    "            \n",
    "        "
   ]
  },
  {
   "cell_type": "code",
   "execution_count": 28,
   "metadata": {},
   "outputs": [
    {
     "name": "stdout",
     "output_type": "stream",
     "text": [
      "[3, 6, 5, 5, 4, 5, 6, -1, 8, -1, -1]\n",
      "[2, 3, 3, 4, 3, 2, 1, 2, 1, 5]\n"
     ]
    },
    {
     "data": {
      "text/plain": [
       "5"
      ]
     },
     "execution_count": 28,
     "metadata": {},
     "output_type": "execute_result"
    }
   ],
   "source": [
    "solution([4,3,2,1,2,4,5,2,3,3])"
   ]
  },
  {
   "cell_type": "code",
   "execution_count": null,
   "metadata": {},
   "outputs": [],
   "source": []
  }
 ],
 "metadata": {
  "kernelspec": {
   "display_name": "Python 3",
   "language": "python",
   "name": "python3"
  },
  "language_info": {
   "codemirror_mode": {
    "name": "ipython",
    "version": 3
   },
   "file_extension": ".py",
   "mimetype": "text/x-python",
   "name": "python",
   "nbconvert_exporter": "python",
   "pygments_lexer": "ipython3",
   "version": "3.7.3"
  }
 },
 "nbformat": 4,
 "nbformat_minor": 2
}
