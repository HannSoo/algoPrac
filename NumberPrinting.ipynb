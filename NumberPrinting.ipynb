{
 "cells": [
  {
   "cell_type": "code",
   "execution_count": 29,
   "metadata": {},
   "outputs": [
    {
     "name": "stdout",
     "output_type": "stream",
     "text": [
      "33\n"
     ]
    }
   ],
   "source": [
    "def Lines(size):\n",
    "    \"\"\"\n",
    "    ###\n",
    "    #.#\n",
    "    ...\n",
    "    #..\n",
    "    ..#\n",
    "    \"\"\"\n",
    "    lines = [\"#\" * size,\n",
    "                \"#\" + (size-2) * \".\" + \"#\",\n",
    "                \".\" * size,\n",
    "                \"#\"+ (size - 1) * \".\",\n",
    "                 (size - 1) * \".\" + \"#\"]\n",
    "    return lines\n",
    "from collections import defaultdict as dd\n",
    "lines = dd(lambda : [])\n",
    "lines[3]= Lines(3)\n"
   ]
  },
  {
   "cell_type": "markdown",
   "metadata": {},
   "source": [
    "\n",
    "a, b = map(int, input().strip().split(' '))\n",
    "print(a + b)"
   ]
  },
  {
   "cell_type": "code",
   "execution_count": 33,
   "metadata": {},
   "outputs": [
    {
     "name": "stdout",
     "output_type": "stream",
     "text": [
      "4 TOP\n",
      "5 123\n",
      "3 45\n",
      "5 7890\n",
      "3 6\n",
      "['', '', '', '', '', '', '', '', '', '.....', '.....', '.....', '.....', '.....', '.....', '.....', '.....', '.....', ' ', ' ', ' ', ' ', ' ', ' ', ' ', ' ', ' ', '.....', '.....', '.....', '.....', '.....', '.....', '.....', '.....', '.....', ' ', ' ', ' ', ' ', ' ', ' ', ' ', ' ', ' ', '.....', '.....', '.....', '.....', '.....', '.....', '.....', '.....', '.....', ' ', ' ', ' ', ' ', ' ', ' ', ' ', ' ', ' ', '#.#', '#.#', '#.#', '###', '#.#', '#.#', '#.#', '###', '..#', ' ', ' ', ' ', ' ', ' ', ' ', ' ', ' ', ' ', '###', '#..', '#..', '###', '###', '#..', '#..', '###', '###', ' ', ' ', ' ', ' ', ' ', ' ', ' ', ' ', ' ', '.....', '.....', '.....', '.....', '.....', '.....', '.....', '.....', '.....', ' ', ' ', ' ', ' ', ' ', ' ', ' ', ' ', ' ', '.....', '.....', '.....', '.....', '.....', '.....', '.....', '.....', '.....', ' ', ' ', ' ', ' ', ' ', ' ', ' ', ' ', ' ', '.....', '.....', '.....', '.....', '.....', '.....', '.....', '.....', '.....', ' ', ' ', ' ', ' ', ' ', ' ', ' ', ' ', ' ', '.....', '.....', '.....', '.....', '.....', '.....', '.....', '.....', '.....', ' ', ' ', ' ', ' ', ' ', ' ', ' ', ' ', ' ', '#..', '#..', '#..', '#..', '#..', '###', '###', '...', '...', ' ', ' ', ' ', ' ', ' ', ' ', ' ', ' ', ' ']\n"
     ]
    }
   ],
   "source": [
    "N, align = input().strip().split(' ')\n",
    "N = int(N)\n",
    "max_size = 0\n",
    "sl = [] # size list\n",
    "nl = [] # num list\n",
    "for _ in range(N):\n",
    "    size,nums = input().strip().split(' ')\n",
    "    sl.append(int(size))\n",
    "    nl.append(nums)\n",
    "    size= int(size)\n",
    "    if not(lines[size]):\n",
    "        lines[size] = Lines(size)\n",
    "    max_size = max(max_size,size)\n",
    "\n",
    "height = max_size * 2 - 1\n",
    "rows = ['' for _ in range(height)]\n",
    "\n",
    "arabian = []\n",
    "arabian.extend([[0,1,1,1,0],\n",
    "               [4,4,4,4,4],\n",
    "              [0,4,0,3,0],\n",
    "              [0,4,0,4,0],\n",
    "              [1,1,0,4,4],\n",
    "              [0,3,0,4,0],\n",
    "              [3,3,0,1,0],\n",
    "              [0,4,4,4,4],\n",
    "              [0,1,0,1,0],\n",
    "              [0,1,0,4,4]])\n",
    "\n",
    "def printNums(number,size,align,max_height):\n",
    "    rows = [\".\" * size for _ in range(max_height)]\n",
    "    space = (max_height - number) // 2\n",
    "    height = 2* size - 1\n",
    "    temp_row = [\"\" for _ in range(height)]\n",
    "    temp_row[0] = lines[size][arabian[number][0]]\n",
    "    for i in range(1,height//2+1):\n",
    "        temp_row[i] = lines[size][arabian[number][1]]\n",
    "    temp_row[height//2+1] = lines[size][arabian[number][2]]\n",
    "    for i in range(height//2+2,height-1):\n",
    "        temp_row[i] = lines[size][arabian[number][3]]\n",
    "    temp_row[height-1] = lines[size][arabian[number][4]]\n",
    "    if not(height == max_height):\n",
    "        if(align == \"TOP\"):\n",
    "            rows[:height] = temp_row\n",
    "        if(align == \"MIDDLE\"):\n",
    "            rows[space:space+height] = temp_row\n",
    "        else:\n",
    "            rows[2*space : 2*space +height] = temp_row\n",
    "    return rows\n",
    "\n",
    "space = [\" \" for _ in range(height)]\n",
    "for i in range(N):\n",
    "    size = sl[i]\n",
    "    nums = nl[i]\n",
    "    for number in nums:\n",
    "        number = int(number)\n",
    "        rows += printNums(number,size,align,height)\n",
    "        rows += space\n",
    "\n",
    "print(rows)"
   ]
  },
  {
   "cell_type": "code",
   "execution_count": 25,
   "metadata": {},
   "outputs": [],
   "source": [
    "max_size= 5\n",
    "height = max_size * 2 - 1\n",
    "sl = [5,3,5,3]\n",
    "align = \"TOP\"\n",
    "nl = [\"123\",\"45\",\"7890\",\"6\"]\n",
    "N = 4\n",
    "rows = ['' for _ in range(height)]"
   ]
  },
  {
   "cell_type": "code",
   "execution_count": 26,
   "metadata": {},
   "outputs": [
    {
     "name": "stdout",
     "output_type": "stream",
     "text": [
      "..#\n"
     ]
    }
   ],
   "source": [
    "arabian = []\n",
    "arabian.extend([[0,1,1,1,0],\n",
    "               [4,4,4,4,4],\n",
    "              [0,4,0,3,0],\n",
    "              [0,4,0,4,0],\n",
    "              [1,1,0,4,4],\n",
    "              [0,3,0,4,0],\n",
    "              [3,3,0,1,0],\n",
    "              [0,4,4,4,4],\n",
    "              [0,1,0,1,0],\n",
    "              [0,1,0,4,4]])\n",
    "size = 3\n",
    "number = 1\n",
    "print( lines[size][arabian[number][0]])"
   ]
  },
  {
   "cell_type": "code",
   "execution_count": 27,
   "metadata": {},
   "outputs": [
    {
     "ename": "IndexError",
     "evalue": "list index out of range",
     "output_type": "error",
     "traceback": [
      "\u001b[1;31m---------------------------------------------------------------------------\u001b[0m",
      "\u001b[1;31mIndexError\u001b[0m                                Traceback (most recent call last)",
      "\u001b[1;32m<ipython-input-27-dadddf06683e>\u001b[0m in \u001b[0;36m<module>\u001b[1;34m\u001b[0m\n\u001b[0;32m     26\u001b[0m     \u001b[1;32mfor\u001b[0m \u001b[0mnumber\u001b[0m \u001b[1;32min\u001b[0m \u001b[0mnums\u001b[0m\u001b[1;33m:\u001b[0m\u001b[1;33m\u001b[0m\u001b[1;33m\u001b[0m\u001b[0m\n\u001b[0;32m     27\u001b[0m         \u001b[0mnumber\u001b[0m \u001b[1;33m=\u001b[0m \u001b[0mint\u001b[0m\u001b[1;33m(\u001b[0m\u001b[0mnumber\u001b[0m\u001b[1;33m)\u001b[0m\u001b[1;33m\u001b[0m\u001b[1;33m\u001b[0m\u001b[0m\n\u001b[1;32m---> 28\u001b[1;33m         \u001b[0mrows\u001b[0m \u001b[1;33m+=\u001b[0m \u001b[0mprintNums\u001b[0m\u001b[1;33m(\u001b[0m\u001b[0mnumber\u001b[0m\u001b[1;33m,\u001b[0m\u001b[0msize\u001b[0m\u001b[1;33m,\u001b[0m\u001b[0malign\u001b[0m\u001b[1;33m,\u001b[0m\u001b[0mheight\u001b[0m\u001b[1;33m)\u001b[0m\u001b[1;33m\u001b[0m\u001b[1;33m\u001b[0m\u001b[0m\n\u001b[0m\u001b[0;32m     29\u001b[0m         \u001b[0mrows\u001b[0m \u001b[1;33m+=\u001b[0m \u001b[0mspace\u001b[0m\u001b[1;33m\u001b[0m\u001b[1;33m\u001b[0m\u001b[0m\n\u001b[0;32m     30\u001b[0m \u001b[1;33m\u001b[0m\u001b[0m\n",
      "\u001b[1;32m<ipython-input-27-dadddf06683e>\u001b[0m in \u001b[0;36mprintNums\u001b[1;34m(number, size, align, max_height)\u001b[0m\n\u001b[0;32m      4\u001b[0m     \u001b[0mheight\u001b[0m \u001b[1;33m=\u001b[0m \u001b[1;36m2\u001b[0m\u001b[1;33m*\u001b[0m \u001b[0msize\u001b[0m \u001b[1;33m-\u001b[0m \u001b[1;36m1\u001b[0m\u001b[1;33m\u001b[0m\u001b[1;33m\u001b[0m\u001b[0m\n\u001b[0;32m      5\u001b[0m     \u001b[0mtemp_row\u001b[0m \u001b[1;33m=\u001b[0m \u001b[1;33m[\u001b[0m\u001b[1;34m\"\"\u001b[0m \u001b[1;32mfor\u001b[0m \u001b[0m_\u001b[0m \u001b[1;32min\u001b[0m \u001b[0mrange\u001b[0m\u001b[1;33m(\u001b[0m\u001b[0mheight\u001b[0m\u001b[1;33m)\u001b[0m\u001b[1;33m]\u001b[0m\u001b[1;33m\u001b[0m\u001b[1;33m\u001b[0m\u001b[0m\n\u001b[1;32m----> 6\u001b[1;33m     \u001b[0mtemp_row\u001b[0m\u001b[1;33m[\u001b[0m\u001b[1;36m0\u001b[0m\u001b[1;33m]\u001b[0m \u001b[1;33m=\u001b[0m \u001b[0mlines\u001b[0m\u001b[1;33m[\u001b[0m\u001b[0msize\u001b[0m\u001b[1;33m]\u001b[0m\u001b[1;33m[\u001b[0m\u001b[0marabian\u001b[0m\u001b[1;33m[\u001b[0m\u001b[0mnumber\u001b[0m\u001b[1;33m]\u001b[0m\u001b[1;33m[\u001b[0m\u001b[1;36m0\u001b[0m\u001b[1;33m]\u001b[0m\u001b[1;33m]\u001b[0m\u001b[1;33m\u001b[0m\u001b[1;33m\u001b[0m\u001b[0m\n\u001b[0m\u001b[0;32m      7\u001b[0m     \u001b[1;32mfor\u001b[0m \u001b[0mi\u001b[0m \u001b[1;32min\u001b[0m \u001b[0mrange\u001b[0m\u001b[1;33m(\u001b[0m\u001b[1;36m1\u001b[0m\u001b[1;33m,\u001b[0m\u001b[0mheight\u001b[0m\u001b[1;33m//\u001b[0m\u001b[1;36m2\u001b[0m\u001b[1;33m+\u001b[0m\u001b[1;36m1\u001b[0m\u001b[1;33m)\u001b[0m\u001b[1;33m:\u001b[0m\u001b[1;33m\u001b[0m\u001b[1;33m\u001b[0m\u001b[0m\n\u001b[0;32m      8\u001b[0m         \u001b[0mtemp_row\u001b[0m\u001b[1;33m[\u001b[0m\u001b[0mi\u001b[0m\u001b[1;33m]\u001b[0m \u001b[1;33m=\u001b[0m \u001b[0mlines\u001b[0m\u001b[1;33m[\u001b[0m\u001b[0msize\u001b[0m\u001b[1;33m]\u001b[0m\u001b[1;33m[\u001b[0m\u001b[0marabian\u001b[0m\u001b[1;33m[\u001b[0m\u001b[0mnumber\u001b[0m\u001b[1;33m]\u001b[0m\u001b[1;33m[\u001b[0m\u001b[1;36m1\u001b[0m\u001b[1;33m]\u001b[0m\u001b[1;33m]\u001b[0m\u001b[1;33m\u001b[0m\u001b[1;33m\u001b[0m\u001b[0m\n",
      "\u001b[1;31mIndexError\u001b[0m: list index out of range"
     ]
    }
   ],
   "source": [
    "def printNums(number,size,align,max_height):\n",
    "    rows = [\".\" * size for _ in range(max_height)]\n",
    "    space = (max_height - number) // 2\n",
    "    height = 2* size - 1\n",
    "    temp_row = [\"\" for _ in range(height)]\n",
    "    temp_row[0] = lines[size][arabian[number][0]]\n",
    "    for i in range(1,height//2+1):\n",
    "        temp_row[i] = lines[size][arabian[number][1]]\n",
    "    temp_row[height//2+1] = lines[size][arabian[number][2]]\n",
    "    for i in range(height//2+2,height-1):\n",
    "        temp_row[i] = lines[size][arabian[number][3]]\n",
    "    temp_row[height-1] = lines[size][arabian[number][4]]\n",
    "    if not(height == max_height):\n",
    "        if(align == \"TOP\"):\n",
    "            rows[:height] = temp_row\n",
    "        if(align == \"MIDDLE\"):\n",
    "            rows[space:space+height] = temp_row\n",
    "        else:\n",
    "            rows[2*space : 2*space +height] = temp_row\n",
    "    return rows\n",
    "\n",
    "space = [\" \" for _ in range(height)]\n",
    "for i in range(N):\n",
    "    size = sl[i]\n",
    "    nums = nl[i]\n",
    "    for number in nums:\n",
    "        number = int(number)\n",
    "        rows += printNums(number,size,align,height)\n",
    "        rows += space\n",
    "\n",
    "print(rows)"
   ]
  },
  {
   "cell_type": "code",
   "execution_count": null,
   "metadata": {},
   "outputs": [],
   "source": []
  }
 ],
 "metadata": {
  "kernelspec": {
   "display_name": "Python 3",
   "language": "python",
   "name": "python3"
  },
  "language_info": {
   "codemirror_mode": {
    "name": "ipython",
    "version": 3
   },
   "file_extension": ".py",
   "mimetype": "text/x-python",
   "name": "python",
   "nbconvert_exporter": "python",
   "pygments_lexer": "ipython3",
   "version": "3.7.3"
  }
 },
 "nbformat": 4,
 "nbformat_minor": 2
}
