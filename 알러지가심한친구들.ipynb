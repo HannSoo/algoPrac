{
 "cells": [
  {
   "cell_type": "code",
   "execution_count": 1,
   "metadata": {},
   "outputs": [],
   "source": [
    "friends = [\"cl\",\"bom\",\"dara\",\"minzy\"]\n",
    "foods = [[\"dara\",\"minzy\"],[\"cl\",\"minzy\"],[\"cl\",\"dara\"],[\"cl\"],[\"bom\",\"dara\"],[\"bom\",\"minzy\"]]"
   ]
  },
  {
   "cell_type": "code",
   "execution_count": 31,
   "metadata": {},
   "outputs": [],
   "source": [
    "friends = [1,2,3,4,5,6,7,8,9,0]\n",
    "foods = [[1,3,4,8,9,0],[1,4,9],[1,3,6,7,8,9,0],[2,4,7],[2,3,6,8,9],[2,5,7,0],[2,3,7,8,9]]"
   ]
  },
  {
   "cell_type": "code",
   "execution_count": 32,
   "metadata": {},
   "outputs": [],
   "source": [
    "inverse_friends = dict()\n",
    "for i, friend in enumerate(friends):\n",
    "    inverse_friends[friend] = i\n",
    "    \n",
    "def canEat():\n",
    "    ret = [0 for _ in range(len(friends))]\n",
    "    for i, food in enumerate(foods):\n",
    "        for friend in food:\n",
    "            nfriend =inverse_friends[friend]\n",
    "            ret[nfriend] |= (1<< i)\n",
    "    return ret\n",
    "\n",
    "taste = canEat()\n"
   ]
  },
  {
   "cell_type": "code",
   "execution_count": 99,
   "metadata": {},
   "outputs": [],
   "source": [
    "#여태 무엇을 먹었는지, 몇가지나 먹었는지 \n",
    "EAT = [[-1 for _ in range(1<<len(foods))] for _ in range(len(friends))]\n",
    "best = len(foods)\n",
    "cnt = 0\n",
    "def eating(friend,eaten):\n",
    "    global cnt\n",
    "    cnt += 1\n",
    "    #friend부터 끝에있는 친구까지 최소한의 음식 가지수\n",
    "    num_eaten = 0\n",
    "    global best\n",
    "    for i in range(len(foods)):\n",
    "        if(eaten & (1<<i)):\n",
    "            num_eaten += 1\n",
    "    if(best < num_eaten):\n",
    "        return len(foods)\n",
    "    \n",
    "    if(friend == len(friends)):\n",
    "        best = min(num_eaten,best)\n",
    "        return num_eaten\n",
    "    \n",
    "    if(EAT[friend][eaten] != -1):\n",
    "        return EAT[friend][eaten]\n",
    "    \n",
    "    ret = 0\n",
    "    for food in range(len(foods)):\n",
    "        if(taste[friend] & (1<<food)):\n",
    "            if(eaten & (1<<food)):\n",
    "            #만들어져 있던 음식을 먹이거나\n",
    "                if not(ret):\n",
    "                    ret = eating(friend+1,eaten)\n",
    "                else:\n",
    "                    ret = min(ret, eating(friend+1,eaten))\n",
    "            else:\n",
    "            #얘를 위해 새로운 음식을 만들거나\n",
    "                if not(ret):\n",
    "                    ret = eating(friend+1, eaten | (1<<food))\n",
    "                else:\n",
    "                    ret = min(ret, eating(friend+1, eaten | (1<<food)))\n",
    "    \n",
    "    EAT[friend][eaten] = ret\n",
    "    return ret"
   ]
  },
  {
   "cell_type": "code",
   "execution_count": 103,
   "metadata": {},
   "outputs": [],
   "source": [
    "#여태 무엇을 먹었는지, 몇가지나 먹었는지 \n",
    "EAT = [[-1 for _ in range(1<<len(foods))] for _ in range(len(friends))]\n",
    "best = len(foods)\n",
    "cnt2 = 0\n",
    "def eating2(friend,eaten):\n",
    "    #friend부터 끝에있는 친구까지 최소한의 음식 가지수\n",
    "    global cnt2\n",
    "    cnt2 += 1\n",
    "    if(friend == len(friends)):\n",
    "        num_eaten = 0\n",
    "        for i in range(len(foods)):\n",
    "            if(eaten & (1<<i)):\n",
    "                num_eaten += 1\n",
    "    \n",
    "        return num_eaten\n",
    "    \n",
    "    if(EAT[friend][eaten] != -1):\n",
    "        return EAT[friend][eaten]\n",
    "    \n",
    "    ret = 0\n",
    "    for food in range(len(foods)):\n",
    "        if(taste[friend] & (1<<food)):\n",
    "            if(eaten & (1<<food)):\n",
    "            #만들어져 있던 음식을 먹이거나\n",
    "                if not(ret):\n",
    "                    ret = eating2(friend+1,eaten)\n",
    "                else:\n",
    "                    ret = min(ret, eating2(friend+1,eaten))\n",
    "            else:\n",
    "            #얘를 위해 새로운 음식을 만들거나\n",
    "                if not(ret):\n",
    "                    ret = eating2(friend+1, eaten | (1<<food))\n",
    "                else:\n",
    "                    ret = min(ret, eating2(friend+1, eaten | (1<<food)))\n",
    "    \n",
    "    EAT[friend][eaten] = ret\n",
    "    return ret"
   ]
  },
  {
   "cell_type": "code",
   "execution_count": 101,
   "metadata": {},
   "outputs": [
    {
     "name": "stdout",
     "output_type": "stream",
     "text": [
      "3 367\n"
     ]
    }
   ],
   "source": [
    "\n",
    "print(eating(0,0), cnt)\n"
   ]
  },
  {
   "cell_type": "code",
   "execution_count": 104,
   "metadata": {},
   "outputs": [
    {
     "name": "stdout",
     "output_type": "stream",
     "text": [
      "3 961\n"
     ]
    }
   ],
   "source": [
    "print(eating2(0,0), cnt2)\n"
   ]
  },
  {
   "cell_type": "code",
   "execution_count": null,
   "metadata": {},
   "outputs": [],
   "source": []
  },
  {
   "cell_type": "code",
   "execution_count": null,
   "metadata": {},
   "outputs": [],
   "source": []
  }
 ],
 "metadata": {
  "kernelspec": {
   "display_name": "Python 3",
   "language": "python",
   "name": "python3"
  },
  "language_info": {
   "codemirror_mode": {
    "name": "ipython",
    "version": 3
   },
   "file_extension": ".py",
   "mimetype": "text/x-python",
   "name": "python",
   "nbconvert_exporter": "python",
   "pygments_lexer": "ipython3",
   "version": "3.7.3"
  }
 },
 "nbformat": 4,
 "nbformat_minor": 2
}
