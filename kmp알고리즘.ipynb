{
 "cells": [
  {
   "cell_type": "code",
   "execution_count": 1,
   "metadata": {},
   "outputs": [
    {
     "ename": "SyntaxError",
     "evalue": "unexpected EOF while parsing (<ipython-input-1-fa1bb0a408f7>, line 25)",
     "output_type": "error",
     "traceback": [
      "\u001b[1;36m  File \u001b[1;32m\"<ipython-input-1-fa1bb0a408f7>\"\u001b[1;36m, line \u001b[1;32m25\u001b[0m\n\u001b[1;33m    \u001b[0m\n\u001b[1;37m    ^\u001b[0m\n\u001b[1;31mSyntaxError\u001b[0m\u001b[1;31m:\u001b[0m unexpected EOF while parsing\n"
     ]
    }
   ],
   "source": [
    "straw = \"abcabcbcbabcbcbacbabcabcbc\"\n",
    "needle = \"aabaabacdeaabaabacdfe\"\n",
    "\n",
    "def getPartialMatch(word):\n",
    "    m = len(word)\n",
    "    pi = [0 for _ in range(m)]\n",
    "    matched = 0\n",
    "    begin = 1\n",
    "    while(matched + begin < m):\n",
    "        print(\"comparing \", word[begin + matched], word[matched])\n",
    "        if(word[begin + matched] == word[matched]):\n",
    "            matched += 1\n",
    "            pi[begin + matched - 1]= matched\n",
    "        else:\n",
    "            begin += matched + 1\n",
    "            matched = 0\n",
    "    return pi\n",
    "\n",
    "def kmp(straw,needle):\n",
    "    begin = 0 \n",
    "    n = len(straw)\n",
    "    pi = getPartialMatch(needle)\n",
    "    while(begin + matched < n):\n",
    "        \n",
    "    "
   ]
  },
  {
   "cell_type": "code",
   "execution_count": null,
   "metadata": {},
   "outputs": [],
   "source": []
  },
  {
   "cell_type": "code",
   "execution_count": null,
   "metadata": {},
   "outputs": [],
   "source": []
  }
 ],
 "metadata": {
  "kernelspec": {
   "display_name": "Python 3",
   "language": "python",
   "name": "python3"
  },
  "language_info": {
   "codemirror_mode": {
    "name": "ipython",
    "version": 3
   },
   "file_extension": ".py",
   "mimetype": "text/x-python",
   "name": "python",
   "nbconvert_exporter": "python",
   "pygments_lexer": "ipython3",
   "version": "3.7.3"
  }
 },
 "nbformat": 4,
 "nbformat_minor": 2
}
