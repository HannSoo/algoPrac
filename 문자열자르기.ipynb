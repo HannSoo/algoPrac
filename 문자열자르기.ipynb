{
 "cells": [
  {
   "cell_type": "code",
   "execution_count": 45,
   "metadata": {},
   "outputs": [],
   "source": [
    "#n글자 단위로 word를 잘랐을때,\n",
    "#몇 글자가 되는지 리턴한다.\n",
    "def lenString(word,n):\n",
    "    prev = word[:n]\n",
    "    N = len(word)\n",
    "    ret  = N\n",
    "    t = 0\n",
    "    for i in range(1,N//n):\n",
    "        curr = word[i*n: (i+1) * n]\n",
    "        if(prev == curr):\n",
    "            t += 1\n",
    "        else:\n",
    "            prev = curr\n",
    "            if(t > 0):\n",
    "                \n",
    "                ret += len(str(t))\n",
    "                ret -= t * n\n",
    "                t = 0\n",
    "    if(t > 0):\n",
    "        ret += len(str(t))\n",
    "        ret -= t * n\n",
    "    return ret\n",
    "\n",
    "\n",
    "\n",
    "\n",
    "\n",
    "            \n",
    "            \n",
    "        "
   ]
  },
  {
   "cell_type": "code",
   "execution_count": 46,
   "metadata": {},
   "outputs": [
    {
     "data": {
      "text/plain": [
       "8"
      ]
     },
     "execution_count": 46,
     "metadata": {},
     "output_type": "execute_result"
    }
   ],
   "source": [
    "lenString(\"abcdcdab\",3)"
   ]
  },
  {
   "cell_type": "code",
   "execution_count": 50,
   "metadata": {},
   "outputs": [
    {
     "name": "stdout",
     "output_type": "stream",
     "text": [
      "3\n"
     ]
    }
   ],
   "source": [
    "num = len(str(100))\n",
    "print(num)"
   ]
  },
  {
   "cell_type": "code",
   "execution_count": null,
   "metadata": {},
   "outputs": [],
   "source": []
  }
 ],
 "metadata": {
  "kernelspec": {
   "display_name": "Python 3",
   "language": "python",
   "name": "python3"
  },
  "language_info": {
   "codemirror_mode": {
    "name": "ipython",
    "version": 3
   },
   "file_extension": ".py",
   "mimetype": "text/x-python",
   "name": "python",
   "nbconvert_exporter": "python",
   "pygments_lexer": "ipython3",
   "version": "3.7.3"
  }
 },
 "nbformat": 4,
 "nbformat_minor": 2
}
