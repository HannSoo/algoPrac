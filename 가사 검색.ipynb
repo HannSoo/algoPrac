{
 "cells": [
  {
   "cell_type": "code",
   "execution_count": 50,
   "metadata": {},
   "outputs": [],
   "source": [
    "def solution1(words,queries):\n",
    "    def cmp(w1,w2,direct):\n",
    "        n = len(w1)\n",
    "        if(len(w2) != n):\n",
    "            return False\n",
    "        for i in range(n):\n",
    "            if(direct):\n",
    "                j = n - 1 - i\n",
    "            else:\n",
    "                j = i\n",
    "                \n",
    "            if(w2[j] == \"?\"):\n",
    "                return True\n",
    "            elif(w1[j] != w2[j]):\n",
    "                return False\n",
    "    \n",
    "\n",
    "    def isRev(query):\n",
    "        return (query[0] == \"?\")\n",
    "    \n",
    "    ret = []\n",
    "    for query in queries:\n",
    "        ret.append(sum([cmp(word,query,isRev(query)) for word in words]))\n",
    "        \n",
    "    return ret\n",
    "                "
   ]
  },
  {
   "cell_type": "code",
   "execution_count": 51,
   "metadata": {},
   "outputs": [],
   "source": [
    "queries =[\"fro??\", \"????o\", \"fr???\", \"fro???\", \"pro?\"]\n",
    "words =  [\"frodo\", \"front\", \"frost\", \"frozen\", \"frame\", \"kakao\"]"
   ]
  },
  {
   "cell_type": "code",
   "execution_count": 52,
   "metadata": {},
   "outputs": [
    {
     "data": {
      "text/plain": [
       "[3, 2, 4, 1, 0]"
      ]
     },
     "execution_count": 52,
     "metadata": {},
     "output_type": "execute_result"
    }
   ],
   "source": [
    "solution1(words,queries)"
   ]
  },
  {
   "cell_type": "code",
   "execution_count": 40,
   "metadata": {},
   "outputs": [],
   "source": [
    "def cmp(w1,w2,reverse):\n",
    "        n = len(w1)\n",
    "        if(len(w2) != n):\n",
    "            return False\n",
    "        for i in range(n):\n",
    "            if(reverse):\n",
    "                j = n - 1 - i\n",
    "            else:\n",
    "                j = i\n",
    "                \n",
    "            if(w2[j] == \"?\"):\n",
    "                return True\n",
    "            elif(w1[j] != w2[j]):\n",
    "                return False\n",
    "    "
   ]
  },
  {
   "cell_type": "code",
   "execution_count": 47,
   "metadata": {},
   "outputs": [
    {
     "data": {
      "text/plain": [
       "True"
      ]
     },
     "execution_count": 47,
     "metadata": {},
     "output_type": "execute_result"
    }
   ],
   "source": [
    "cmp(\"frodo\",\"fr2??\",1)"
   ]
  },
  {
   "cell_type": "code",
   "execution_count": null,
   "metadata": {},
   "outputs": [],
   "source": [
    "def solution2(words,queries):\n",
    "    def cmp(w1,w2,direct):\n",
    "        n = len(w1)\n",
    "        if(len(w2) != n):\n",
    "            return False\n",
    "        for i in range(n):\n",
    "            if(direct):\n",
    "                j = n - 1 - i\n",
    "            else:\n",
    "                j = i\n",
    "                \n",
    "            if(w2[j] == \"?\"):\n",
    "                return True\n",
    "            elif(w1[j] != w2[j]):\n",
    "                return False\n",
    "    \n",
    "\n",
    "    def isRev(query):\n",
    "        return (query[0] == \"?\")\n",
    "    \n",
    "    ret = []\n",
    "    for query in queries:\n",
    "        ret.append(sum([cmp(word,query,isRev(query)) for word in words]))\n",
    "        \n",
    "    return ret\n",
    "                "
   ]
  },
  {
   "cell_type": "code",
   "execution_count": 53,
   "metadata": {},
   "outputs": [
    {
     "ename": "NameError",
     "evalue": "name 'orp' is not defined",
     "output_type": "error",
     "traceback": [
      "\u001b[1;31m---------------------------------------------------------------------------\u001b[0m",
      "\u001b[1;31mNameError\u001b[0m                                 Traceback (most recent call last)",
      "\u001b[1;32m<ipython-input-53-45e619859fde>\u001b[0m in \u001b[0;36m<module>\u001b[1;34m\u001b[0m\n\u001b[1;32m----> 1\u001b[1;33m \u001b[0morp\u001b[0m\u001b[1;33m(\u001b[0m\u001b[1;34m'a'\u001b[0m\u001b[1;33m)\u001b[0m\u001b[1;33m\u001b[0m\u001b[1;33m\u001b[0m\u001b[0m\n\u001b[0m",
      "\u001b[1;31mNameError\u001b[0m: name 'orp' is not defined"
     ]
    }
   ],
   "source": [
    "ord('a')"
   ]
  },
  {
   "cell_type": "code",
   "execution_count": 56,
   "metadata": {},
   "outputs": [],
   "source": [
    "def stoi(w):\n",
    "    ret = 0\n",
    "    for letter in w:\n",
    "        ret *= 27\n",
    "        if(letter == \"?\"):\n",
    "            letter = 26\n",
    "        else:\n",
    "            letter = orp(letter) - orp('a')\n",
    "        ret += letter\n",
    "    return ret"
   ]
  },
  {
   "cell_type": "code",
   "execution_count": null,
   "metadata": {},
   "outputs": [],
   "source": []
  }
 ],
 "metadata": {
  "kernelspec": {
   "display_name": "Python 3",
   "language": "python",
   "name": "python3"
  },
  "language_info": {
   "codemirror_mode": {
    "name": "ipython",
    "version": 3
   },
   "file_extension": ".py",
   "mimetype": "text/x-python",
   "name": "python",
   "nbconvert_exporter": "python",
   "pygments_lexer": "ipython3",
   "version": "3.7.3"
  }
 },
 "nbformat": 4,
 "nbformat_minor": 2
}
