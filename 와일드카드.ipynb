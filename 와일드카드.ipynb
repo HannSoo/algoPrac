{
 "cells": [
  {
   "cell_type": "code",
   "execution_count": 90,
   "metadata": {},
   "outputs": [],
   "source": [
    "\n",
    "DEBUG = False\n",
    "def solution(W,S):\n",
    "    cache = [[-1 for _ in range(len(S)+1)] for _ in range(len(W)+1)]\n",
    "    \n",
    "    def match_memo(w,s):\n",
    "        if(DEBUG): print(\"memo visits w >> \", w, \"/ s >> \", s)\n",
    "        if(cache[w][s] != -1):\n",
    "            return cache[w][s]\n",
    "        \n",
    "        if((w < len(W)) &(s < len(S))):\n",
    "            if((W[w] == '?') | (W[w] == S[s])):\n",
    "                if(DEBUG): print(w,s)\n",
    "                cache[w][s] = match_memo(w+1,s+1)\n",
    "                return cache[w][s]\n",
    "\n",
    "        if(w == len(W)):\n",
    "            cache[w][s]= (s == len(S))\n",
    "            return cache[w][s]\n",
    "\n",
    "        if(W[w] == '*'):\n",
    "            if(match_memo(w+1,s)):\n",
    "                cache[w][s] = True\n",
    "                return True\n",
    "            if(s < len(S)):\n",
    "                if(match_memo(w,s+1)):\n",
    "                    cache[w][s] = True\n",
    "                    return True\n",
    "\n",
    "        cache[w][s] = False\n",
    "        return cache[w][s]\n",
    "    \n",
    "    return match_memo(0,0)"
   ]
  },
  {
   "cell_type": "code",
   "execution_count": 91,
   "metadata": {
    "scrolled": false
   },
   "outputs": [
    {
     "name": "stdout",
     "output_type": "stream",
     "text": [
      "True\n"
     ]
    }
   ],
   "source": [
    "print(solution(\"reo*\",\"reodio\"))"
   ]
  },
  {
   "cell_type": "code",
   "execution_count": 47,
   "metadata": {},
   "outputs": [
    {
     "data": {
      "text/plain": [
       "0"
      ]
     },
     "execution_count": 47,
     "metadata": {},
     "output_type": "execute_result"
    }
   ],
   "source": [
    "0&1&1|0"
   ]
  },
  {
   "cell_type": "code",
   "execution_count": null,
   "metadata": {},
   "outputs": [],
   "source": []
  },
  {
   "cell_type": "code",
   "execution_count": null,
   "metadata": {},
   "outputs": [],
   "source": []
  }
 ],
 "metadata": {
  "kernelspec": {
   "display_name": "Python 3",
   "language": "python",
   "name": "python3"
  },
  "language_info": {
   "codemirror_mode": {
    "name": "ipython",
    "version": 3
   },
   "file_extension": ".py",
   "mimetype": "text/x-python",
   "name": "python",
   "nbconvert_exporter": "python",
   "pygments_lexer": "ipython3",
   "version": "3.7.3"
  }
 },
 "nbformat": 4,
 "nbformat_minor": 2
}
