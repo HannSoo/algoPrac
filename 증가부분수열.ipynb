{
 "cells": [
  {
   "cell_type": "code",
   "execution_count": 57,
   "metadata": {},
   "outputs": [],
   "source": [
    "def solution(numbers):\n",
    "    size = len(numbers)\n",
    "    # cache[m][n]은 inc(m,n)을 저장함\n",
    "    \n",
    "    #start_index부터 시작하는 수열 중에 원소 수가 가장 많은 증가수열을 리턴함\n",
    "    def inc_numbers(index):\n",
    "        # 기저사례\n",
    "        if(index == size):\n",
    "            return 0\n",
    "        # 캐시에 저장되어있으면 반환\n",
    "        if(cache[index] != -1):\n",
    "            return cache[index]\n",
    "        m = numbers[index]\n",
    "        max_nums = 1\n",
    "        add = -1\n",
    "        for i, num in enumerate(numbers[index+1:]):\n",
    "            if(num > m):\n",
    "                cand = 1 +inc_numbers(i + index + 1)\n",
    "                if(max_nums < cand):\n",
    "                    max_nums = cand\n",
    "                    add = num\n",
    "        path[index] = add\n",
    "        cache[index] = max_nums\n",
    "        \n",
    "        return max_nums\n",
    "    cache = [-1 for _ in range(size)]\n",
    "    path = [-1 for _ in range(size)]\n",
    "    max_number = 0\n",
    "    for i in range(size):\n",
    "        if(max_number,inc_numbers(i)\n",
    "        print(path)\n",
    "    \n",
    "    new_path = []\n",
    "    def reconstruct(start,new_path):\n",
    "        if(start != -1):\n",
    "            new_path.append(numbers[start])\n",
    "        next_number = path[]\n",
    "    return max_number"
   ]
  },
  {
   "cell_type": "code",
   "execution_count": 59,
   "metadata": {},
   "outputs": [
    {
     "name": "stdout",
     "output_type": "stream",
     "text": [
      "[30, -1, 40, -1, 40, 50, -1, -1, -1]\n",
      "[30, 20, 40, 30, 40, 50, -1, 30, -1]\n",
      "[30, 20, 40, 30, 40, 50, -1, 30, -1]\n",
      "[30, 20, 40, 30, 40, 50, -1, 30, -1]\n",
      "[30, 20, 40, 30, 40, 50, -1, 30, -1]\n",
      "[30, 20, 40, 30, 40, 50, -1, 30, -1]\n",
      "[30, 20, 40, 30, 40, 50, -1, 30, -1]\n",
      "[30, 20, 40, 30, 40, 50, -1, 30, -1]\n",
      "[30, 20, 40, 30, 40, 50, -1, 30, -1]\n",
      "5\n"
     ]
    }
   ],
   "source": [
    "print(solution([20,10,30,20,30,40,50,20,30]))"
   ]
  },
  {
   "cell_type": "code",
   "execution_count": null,
   "metadata": {},
   "outputs": [],
   "source": [
    "\n"
   ]
  },
  {
   "cell_type": "code",
   "execution_count": null,
   "metadata": {},
   "outputs": [],
   "source": []
  }
 ],
 "metadata": {
  "kernelspec": {
   "display_name": "Python 3",
   "language": "python",
   "name": "python3"
  },
  "language_info": {
   "codemirror_mode": {
    "name": "ipython",
    "version": 3
   },
   "file_extension": ".py",
   "mimetype": "text/x-python",
   "name": "python",
   "nbconvert_exporter": "python",
   "pygments_lexer": "ipython3",
   "version": "3.7.3"
  }
 },
 "nbformat": 4,
 "nbformat_minor": 2
}
